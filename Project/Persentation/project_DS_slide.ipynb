{
  "nbformat": 4,
  "nbformat_minor": 0,
  "metadata": {
    "colab": {
      "provenance": []
    },
    "kernelspec": {
      "name": "python3",
      "display_name": "Python 3"
    },
    "language_info": {
      "name": "python"
    }
  },
  "cells": [
    {
      "cell_type": "markdown",
      "source": [
        "# load the data"
      ],
      "metadata": {
        "id": "NdtYap3u6g91"
      }
    },
    {
      "cell_type": "code",
      "execution_count": 1,
      "metadata": {
        "colab": {
          "base_uri": "https://localhost:8080/"
        },
        "id": "yaqWNQerkDe1",
        "outputId": "d47fb591-7f76-4fb3-e092-f15b97b49dd5"
      },
      "outputs": [
        {
          "output_type": "stream",
          "name": "stdout",
          "text": [
            "Mounted at /content/drive\n"
          ]
        }
      ],
      "source": [
        "from google.colab import drive\n",
        "drive.mount('/content/drive')"
      ]
    },
    {
      "cell_type": "code",
      "source": [
        "folder_path = '/content/drive/My Drive/anime_info_final.csv'"
      ],
      "metadata": {
        "id": "oWvFr-4YJ0Qr"
      },
      "execution_count": 2,
      "outputs": []
    },
    {
      "cell_type": "code",
      "source": [
        "import pandas as pd\n",
        "import numpy as np\n",
        "\n",
        "# Load the CSV files\n",
        "df = pd.read_csv(folder_path)"
      ],
      "metadata": {
        "id": "O879QTgWJ7Js"
      },
      "execution_count": 3,
      "outputs": []
    },
    {
      "cell_type": "code",
      "source": [
        "df.info()"
      ],
      "metadata": {
        "colab": {
          "base_uri": "https://localhost:8080/"
        },
        "id": "wfDgMZ1660l4",
        "outputId": "39765d26-d77a-44dc-a425-e80f5bda3497"
      },
      "execution_count": null,
      "outputs": [
        {
          "output_type": "stream",
          "name": "stdout",
          "text": [
            "<class 'pandas.core.frame.DataFrame'>\n",
            "RangeIndex: 26440 entries, 0 to 26439\n",
            "Data columns (total 21 columns):\n",
            " #   Column       Non-Null Count  Dtype  \n",
            "---  ------       --------------  -----  \n",
            " 0   Unnamed: 0   26440 non-null  int64  \n",
            " 1   title        26440 non-null  object \n",
            " 2   Type         26440 non-null  object \n",
            " 3   Episodes     26440 non-null  object \n",
            " 4   Status       26440 non-null  object \n",
            " 5   Aired        26440 non-null  object \n",
            " 6   Premiered    7874 non-null   object \n",
            " 7   Producers    26440 non-null  object \n",
            " 8   Licensors    26440 non-null  object \n",
            " 9   Studios      26440 non-null  object \n",
            " 10  Source       24435 non-null  object \n",
            " 11  Genres       11463 non-null  object \n",
            " 12  Demographic  9982 non-null   object \n",
            " 13  Duration     26440 non-null  object \n",
            " 14  Rating       25923 non-null  object \n",
            " 15  Score        17197 non-null  float64\n",
            " 16  Ranked       20647 non-null  object \n",
            " 17  Popularity   26440 non-null  object \n",
            " 18  Members      26440 non-null  object \n",
            " 19  Favorites    26440 non-null  object \n",
            " 20  staff        26440 non-null  object \n",
            "dtypes: float64(1), int64(1), object(19)\n",
            "memory usage: 4.2+ MB\n"
          ]
        }
      ]
    },
    {
      "cell_type": "code",
      "source": [
        "df.head()"
      ],
      "metadata": {
        "id": "47GeZVJ3S4Q1",
        "colab": {
          "base_uri": "https://localhost:8080/",
          "height": 707
        },
        "outputId": "430bf2ee-a3e6-48df-9a7f-768bedd0ffcf"
      },
      "execution_count": null,
      "outputs": [
        {
          "output_type": "execute_result",
          "data": {
            "text/plain": [
              "   Unnamed: 0                               title    Type Episodes  \\\n",
              "0           0                   Sousou_no_Frieren  ['TV']       28   \n",
              "1           1    Fullmetal_Alchemist__Brotherhood  ['TV']       64   \n",
              "2           2                         Steins_Gate  ['TV']       24   \n",
              "3           3                            Gintama°  ['TV']       51   \n",
              "4           4  Shingeki_no_Kyojin_Season_3_Part_2  ['TV']       10   \n",
              "\n",
              "            Status                         Aired    Premiered  \\\n",
              "0  Finished Airing  Sep 29, 2023 to Mar 22, 2024    Fall 2023   \n",
              "1  Finished Airing    Apr 5, 2009 to Jul 4, 2010  Spring 2009   \n",
              "2  Finished Airing   Apr 6, 2011 to Sep 14, 2011  Spring 2011   \n",
              "3  Finished Airing   Apr 8, 2015 to Mar 30, 2016  Spring 2015   \n",
              "4  Finished Airing   Apr 29, 2019 to Jul 1, 2019  Spring 2019   \n",
              "\n",
              "                                           Producers  \\\n",
              "0  ['Aniplex', 'Dentsu', 'Shogakukan-Shueisha Pro...   \n",
              "1  ['Aniplex', 'Square Enix', 'Mainichi Broadcast...   \n",
              "2  ['Frontier Works', 'Media Factory', 'Kadokawa ...   \n",
              "3                  ['TV Tokyo', 'Aniplex', 'Dentsu']   \n",
              "4  ['Production I.G', 'Dentsu', 'Mainichi Broadca...   \n",
              "\n",
              "                              Licensors                    Studios  ...  \\\n",
              "0                          ['add some']               ['Madhouse']  ...   \n",
              "1  ['Funimation', 'Aniplex of America']                  ['Bones']  ...   \n",
              "2                        ['Funimation']              ['White Fox']  ...   \n",
              "3         ['Funimation', 'Crunchyroll']  ['Bandai Namco Pictures']  ...   \n",
              "4                        ['Funimation']             ['Wit Studio']  ...   \n",
              "\n",
              "                                        Genres  Demographic         Duration  \\\n",
              "0            ['Adventure', 'Drama', 'Fantasy']  ['Shounen']  24 min. per ep.   \n",
              "1  ['Action', 'Adventure', 'Drama', 'Fantasy']  ['Shounen']  24 min. per ep.   \n",
              "2              ['Drama', 'Sci-Fi', 'Suspense']          NaN  24 min. per ep.   \n",
              "3               ['Action', 'Comedy', 'Sci-Fi']  ['Shounen']  24 min. per ep.   \n",
              "4              ['Action', 'Drama', 'Suspense']  ['Shounen']  23 min. per ep.   \n",
              "\n",
              "                           Rating Score  Ranked Popularity    Members  \\\n",
              "0       PG-13 - Teens 13 or older  9.38      #1       #285    708,753   \n",
              "1  R - 17+ (violence & profanity)  9.09      #2         #3  3,341,090   \n",
              "2       PG-13 - Teens 13 or older  9.07      #3        #13  2,560,689   \n",
              "3       PG-13 - Teens 13 or older  9.06      #4       #342    630,081   \n",
              "4  R - 17+ (violence & profanity)  9.05      #5        #21  2,272,212   \n",
              "\n",
              "  Favorites                                              staff  \n",
              "0    39,077  ['Fukushi, Yuuichirou', 'Taguchi, Shouichirou'...  \n",
              "1   225,736  ['Cook, Justin', 'Maruyama, Hiroo', 'Yonai, No...  \n",
              "2   189,417  ['Cook, Justin', 'Iwasa, Gaku', 'Kananiwa, Koz...  \n",
              "3    16,631  ['Miyawaki, Chizuru', 'Takamatsu, Shinji', 'Yo...  \n",
              "4    58,534  ['Cook, Justin', 'Yabuta, Shuuhei', 'Wada, Jou...  \n",
              "\n",
              "[5 rows x 21 columns]"
            ],
            "text/html": [
              "\n",
              "  <div id=\"df-a0933e7f-2ec1-40d4-a04b-2e5926bbdc3f\" class=\"colab-df-container\">\n",
              "    <div>\n",
              "<style scoped>\n",
              "    .dataframe tbody tr th:only-of-type {\n",
              "        vertical-align: middle;\n",
              "    }\n",
              "\n",
              "    .dataframe tbody tr th {\n",
              "        vertical-align: top;\n",
              "    }\n",
              "\n",
              "    .dataframe thead th {\n",
              "        text-align: right;\n",
              "    }\n",
              "</style>\n",
              "<table border=\"1\" class=\"dataframe\">\n",
              "  <thead>\n",
              "    <tr style=\"text-align: right;\">\n",
              "      <th></th>\n",
              "      <th>Unnamed: 0</th>\n",
              "      <th>title</th>\n",
              "      <th>Type</th>\n",
              "      <th>Episodes</th>\n",
              "      <th>Status</th>\n",
              "      <th>Aired</th>\n",
              "      <th>Premiered</th>\n",
              "      <th>Producers</th>\n",
              "      <th>Licensors</th>\n",
              "      <th>Studios</th>\n",
              "      <th>...</th>\n",
              "      <th>Genres</th>\n",
              "      <th>Demographic</th>\n",
              "      <th>Duration</th>\n",
              "      <th>Rating</th>\n",
              "      <th>Score</th>\n",
              "      <th>Ranked</th>\n",
              "      <th>Popularity</th>\n",
              "      <th>Members</th>\n",
              "      <th>Favorites</th>\n",
              "      <th>staff</th>\n",
              "    </tr>\n",
              "  </thead>\n",
              "  <tbody>\n",
              "    <tr>\n",
              "      <th>0</th>\n",
              "      <td>0</td>\n",
              "      <td>Sousou_no_Frieren</td>\n",
              "      <td>['TV']</td>\n",
              "      <td>28</td>\n",
              "      <td>Finished Airing</td>\n",
              "      <td>Sep 29, 2023 to Mar 22, 2024</td>\n",
              "      <td>Fall 2023</td>\n",
              "      <td>['Aniplex', 'Dentsu', 'Shogakukan-Shueisha Pro...</td>\n",
              "      <td>['add some']</td>\n",
              "      <td>['Madhouse']</td>\n",
              "      <td>...</td>\n",
              "      <td>['Adventure', 'Drama', 'Fantasy']</td>\n",
              "      <td>['Shounen']</td>\n",
              "      <td>24 min. per ep.</td>\n",
              "      <td>PG-13 - Teens 13 or older</td>\n",
              "      <td>9.38</td>\n",
              "      <td>#1</td>\n",
              "      <td>#285</td>\n",
              "      <td>708,753</td>\n",
              "      <td>39,077</td>\n",
              "      <td>['Fukushi, Yuuichirou', 'Taguchi, Shouichirou'...</td>\n",
              "    </tr>\n",
              "    <tr>\n",
              "      <th>1</th>\n",
              "      <td>1</td>\n",
              "      <td>Fullmetal_Alchemist__Brotherhood</td>\n",
              "      <td>['TV']</td>\n",
              "      <td>64</td>\n",
              "      <td>Finished Airing</td>\n",
              "      <td>Apr 5, 2009 to Jul 4, 2010</td>\n",
              "      <td>Spring 2009</td>\n",
              "      <td>['Aniplex', 'Square Enix', 'Mainichi Broadcast...</td>\n",
              "      <td>['Funimation', 'Aniplex of America']</td>\n",
              "      <td>['Bones']</td>\n",
              "      <td>...</td>\n",
              "      <td>['Action', 'Adventure', 'Drama', 'Fantasy']</td>\n",
              "      <td>['Shounen']</td>\n",
              "      <td>24 min. per ep.</td>\n",
              "      <td>R - 17+ (violence &amp; profanity)</td>\n",
              "      <td>9.09</td>\n",
              "      <td>#2</td>\n",
              "      <td>#3</td>\n",
              "      <td>3,341,090</td>\n",
              "      <td>225,736</td>\n",
              "      <td>['Cook, Justin', 'Maruyama, Hiroo', 'Yonai, No...</td>\n",
              "    </tr>\n",
              "    <tr>\n",
              "      <th>2</th>\n",
              "      <td>2</td>\n",
              "      <td>Steins_Gate</td>\n",
              "      <td>['TV']</td>\n",
              "      <td>24</td>\n",
              "      <td>Finished Airing</td>\n",
              "      <td>Apr 6, 2011 to Sep 14, 2011</td>\n",
              "      <td>Spring 2011</td>\n",
              "      <td>['Frontier Works', 'Media Factory', 'Kadokawa ...</td>\n",
              "      <td>['Funimation']</td>\n",
              "      <td>['White Fox']</td>\n",
              "      <td>...</td>\n",
              "      <td>['Drama', 'Sci-Fi', 'Suspense']</td>\n",
              "      <td>NaN</td>\n",
              "      <td>24 min. per ep.</td>\n",
              "      <td>PG-13 - Teens 13 or older</td>\n",
              "      <td>9.07</td>\n",
              "      <td>#3</td>\n",
              "      <td>#13</td>\n",
              "      <td>2,560,689</td>\n",
              "      <td>189,417</td>\n",
              "      <td>['Cook, Justin', 'Iwasa, Gaku', 'Kananiwa, Koz...</td>\n",
              "    </tr>\n",
              "    <tr>\n",
              "      <th>3</th>\n",
              "      <td>3</td>\n",
              "      <td>Gintama°</td>\n",
              "      <td>['TV']</td>\n",
              "      <td>51</td>\n",
              "      <td>Finished Airing</td>\n",
              "      <td>Apr 8, 2015 to Mar 30, 2016</td>\n",
              "      <td>Spring 2015</td>\n",
              "      <td>['TV Tokyo', 'Aniplex', 'Dentsu']</td>\n",
              "      <td>['Funimation', 'Crunchyroll']</td>\n",
              "      <td>['Bandai Namco Pictures']</td>\n",
              "      <td>...</td>\n",
              "      <td>['Action', 'Comedy', 'Sci-Fi']</td>\n",
              "      <td>['Shounen']</td>\n",
              "      <td>24 min. per ep.</td>\n",
              "      <td>PG-13 - Teens 13 or older</td>\n",
              "      <td>9.06</td>\n",
              "      <td>#4</td>\n",
              "      <td>#342</td>\n",
              "      <td>630,081</td>\n",
              "      <td>16,631</td>\n",
              "      <td>['Miyawaki, Chizuru', 'Takamatsu, Shinji', 'Yo...</td>\n",
              "    </tr>\n",
              "    <tr>\n",
              "      <th>4</th>\n",
              "      <td>4</td>\n",
              "      <td>Shingeki_no_Kyojin_Season_3_Part_2</td>\n",
              "      <td>['TV']</td>\n",
              "      <td>10</td>\n",
              "      <td>Finished Airing</td>\n",
              "      <td>Apr 29, 2019 to Jul 1, 2019</td>\n",
              "      <td>Spring 2019</td>\n",
              "      <td>['Production I.G', 'Dentsu', 'Mainichi Broadca...</td>\n",
              "      <td>['Funimation']</td>\n",
              "      <td>['Wit Studio']</td>\n",
              "      <td>...</td>\n",
              "      <td>['Action', 'Drama', 'Suspense']</td>\n",
              "      <td>['Shounen']</td>\n",
              "      <td>23 min. per ep.</td>\n",
              "      <td>R - 17+ (violence &amp; profanity)</td>\n",
              "      <td>9.05</td>\n",
              "      <td>#5</td>\n",
              "      <td>#21</td>\n",
              "      <td>2,272,212</td>\n",
              "      <td>58,534</td>\n",
              "      <td>['Cook, Justin', 'Yabuta, Shuuhei', 'Wada, Jou...</td>\n",
              "    </tr>\n",
              "  </tbody>\n",
              "</table>\n",
              "<p>5 rows × 21 columns</p>\n",
              "</div>\n",
              "    <div class=\"colab-df-buttons\">\n",
              "\n",
              "  <div class=\"colab-df-container\">\n",
              "    <button class=\"colab-df-convert\" onclick=\"convertToInteractive('df-a0933e7f-2ec1-40d4-a04b-2e5926bbdc3f')\"\n",
              "            title=\"Convert this dataframe to an interactive table.\"\n",
              "            style=\"display:none;\">\n",
              "\n",
              "  <svg xmlns=\"http://www.w3.org/2000/svg\" height=\"24px\" viewBox=\"0 -960 960 960\">\n",
              "    <path d=\"M120-120v-720h720v720H120Zm60-500h600v-160H180v160Zm220 220h160v-160H400v160Zm0 220h160v-160H400v160ZM180-400h160v-160H180v160Zm440 0h160v-160H620v160ZM180-180h160v-160H180v160Zm440 0h160v-160H620v160Z\"/>\n",
              "  </svg>\n",
              "    </button>\n",
              "\n",
              "  <style>\n",
              "    .colab-df-container {\n",
              "      display:flex;\n",
              "      gap: 12px;\n",
              "    }\n",
              "\n",
              "    .colab-df-convert {\n",
              "      background-color: #E8F0FE;\n",
              "      border: none;\n",
              "      border-radius: 50%;\n",
              "      cursor: pointer;\n",
              "      display: none;\n",
              "      fill: #1967D2;\n",
              "      height: 32px;\n",
              "      padding: 0 0 0 0;\n",
              "      width: 32px;\n",
              "    }\n",
              "\n",
              "    .colab-df-convert:hover {\n",
              "      background-color: #E2EBFA;\n",
              "      box-shadow: 0px 1px 2px rgba(60, 64, 67, 0.3), 0px 1px 3px 1px rgba(60, 64, 67, 0.15);\n",
              "      fill: #174EA6;\n",
              "    }\n",
              "\n",
              "    .colab-df-buttons div {\n",
              "      margin-bottom: 4px;\n",
              "    }\n",
              "\n",
              "    [theme=dark] .colab-df-convert {\n",
              "      background-color: #3B4455;\n",
              "      fill: #D2E3FC;\n",
              "    }\n",
              "\n",
              "    [theme=dark] .colab-df-convert:hover {\n",
              "      background-color: #434B5C;\n",
              "      box-shadow: 0px 1px 3px 1px rgba(0, 0, 0, 0.15);\n",
              "      filter: drop-shadow(0px 1px 2px rgba(0, 0, 0, 0.3));\n",
              "      fill: #FFFFFF;\n",
              "    }\n",
              "  </style>\n",
              "\n",
              "    <script>\n",
              "      const buttonEl =\n",
              "        document.querySelector('#df-a0933e7f-2ec1-40d4-a04b-2e5926bbdc3f button.colab-df-convert');\n",
              "      buttonEl.style.display =\n",
              "        google.colab.kernel.accessAllowed ? 'block' : 'none';\n",
              "\n",
              "      async function convertToInteractive(key) {\n",
              "        const element = document.querySelector('#df-a0933e7f-2ec1-40d4-a04b-2e5926bbdc3f');\n",
              "        const dataTable =\n",
              "          await google.colab.kernel.invokeFunction('convertToInteractive',\n",
              "                                                    [key], {});\n",
              "        if (!dataTable) return;\n",
              "\n",
              "        const docLinkHtml = 'Like what you see? Visit the ' +\n",
              "          '<a target=\"_blank\" href=https://colab.research.google.com/notebooks/data_table.ipynb>data table notebook</a>'\n",
              "          + ' to learn more about interactive tables.';\n",
              "        element.innerHTML = '';\n",
              "        dataTable['output_type'] = 'display_data';\n",
              "        await google.colab.output.renderOutput(dataTable, element);\n",
              "        const docLink = document.createElement('div');\n",
              "        docLink.innerHTML = docLinkHtml;\n",
              "        element.appendChild(docLink);\n",
              "      }\n",
              "    </script>\n",
              "  </div>\n",
              "\n",
              "\n",
              "<div id=\"df-66c5e459-5879-400d-985b-fbc1592f8d7b\">\n",
              "  <button class=\"colab-df-quickchart\" onclick=\"quickchart('df-66c5e459-5879-400d-985b-fbc1592f8d7b')\"\n",
              "            title=\"Suggest charts\"\n",
              "            style=\"display:none;\">\n",
              "\n",
              "<svg xmlns=\"http://www.w3.org/2000/svg\" height=\"24px\"viewBox=\"0 0 24 24\"\n",
              "     width=\"24px\">\n",
              "    <g>\n",
              "        <path d=\"M19 3H5c-1.1 0-2 .9-2 2v14c0 1.1.9 2 2 2h14c1.1 0 2-.9 2-2V5c0-1.1-.9-2-2-2zM9 17H7v-7h2v7zm4 0h-2V7h2v10zm4 0h-2v-4h2v4z\"/>\n",
              "    </g>\n",
              "</svg>\n",
              "  </button>\n",
              "\n",
              "<style>\n",
              "  .colab-df-quickchart {\n",
              "      --bg-color: #E8F0FE;\n",
              "      --fill-color: #1967D2;\n",
              "      --hover-bg-color: #E2EBFA;\n",
              "      --hover-fill-color: #174EA6;\n",
              "      --disabled-fill-color: #AAA;\n",
              "      --disabled-bg-color: #DDD;\n",
              "  }\n",
              "\n",
              "  [theme=dark] .colab-df-quickchart {\n",
              "      --bg-color: #3B4455;\n",
              "      --fill-color: #D2E3FC;\n",
              "      --hover-bg-color: #434B5C;\n",
              "      --hover-fill-color: #FFFFFF;\n",
              "      --disabled-bg-color: #3B4455;\n",
              "      --disabled-fill-color: #666;\n",
              "  }\n",
              "\n",
              "  .colab-df-quickchart {\n",
              "    background-color: var(--bg-color);\n",
              "    border: none;\n",
              "    border-radius: 50%;\n",
              "    cursor: pointer;\n",
              "    display: none;\n",
              "    fill: var(--fill-color);\n",
              "    height: 32px;\n",
              "    padding: 0;\n",
              "    width: 32px;\n",
              "  }\n",
              "\n",
              "  .colab-df-quickchart:hover {\n",
              "    background-color: var(--hover-bg-color);\n",
              "    box-shadow: 0 1px 2px rgba(60, 64, 67, 0.3), 0 1px 3px 1px rgba(60, 64, 67, 0.15);\n",
              "    fill: var(--button-hover-fill-color);\n",
              "  }\n",
              "\n",
              "  .colab-df-quickchart-complete:disabled,\n",
              "  .colab-df-quickchart-complete:disabled:hover {\n",
              "    background-color: var(--disabled-bg-color);\n",
              "    fill: var(--disabled-fill-color);\n",
              "    box-shadow: none;\n",
              "  }\n",
              "\n",
              "  .colab-df-spinner {\n",
              "    border: 2px solid var(--fill-color);\n",
              "    border-color: transparent;\n",
              "    border-bottom-color: var(--fill-color);\n",
              "    animation:\n",
              "      spin 1s steps(1) infinite;\n",
              "  }\n",
              "\n",
              "  @keyframes spin {\n",
              "    0% {\n",
              "      border-color: transparent;\n",
              "      border-bottom-color: var(--fill-color);\n",
              "      border-left-color: var(--fill-color);\n",
              "    }\n",
              "    20% {\n",
              "      border-color: transparent;\n",
              "      border-left-color: var(--fill-color);\n",
              "      border-top-color: var(--fill-color);\n",
              "    }\n",
              "    30% {\n",
              "      border-color: transparent;\n",
              "      border-left-color: var(--fill-color);\n",
              "      border-top-color: var(--fill-color);\n",
              "      border-right-color: var(--fill-color);\n",
              "    }\n",
              "    40% {\n",
              "      border-color: transparent;\n",
              "      border-right-color: var(--fill-color);\n",
              "      border-top-color: var(--fill-color);\n",
              "    }\n",
              "    60% {\n",
              "      border-color: transparent;\n",
              "      border-right-color: var(--fill-color);\n",
              "    }\n",
              "    80% {\n",
              "      border-color: transparent;\n",
              "      border-right-color: var(--fill-color);\n",
              "      border-bottom-color: var(--fill-color);\n",
              "    }\n",
              "    90% {\n",
              "      border-color: transparent;\n",
              "      border-bottom-color: var(--fill-color);\n",
              "    }\n",
              "  }\n",
              "</style>\n",
              "\n",
              "  <script>\n",
              "    async function quickchart(key) {\n",
              "      const quickchartButtonEl =\n",
              "        document.querySelector('#' + key + ' button');\n",
              "      quickchartButtonEl.disabled = true;  // To prevent multiple clicks.\n",
              "      quickchartButtonEl.classList.add('colab-df-spinner');\n",
              "      try {\n",
              "        const charts = await google.colab.kernel.invokeFunction(\n",
              "            'suggestCharts', [key], {});\n",
              "      } catch (error) {\n",
              "        console.error('Error during call to suggestCharts:', error);\n",
              "      }\n",
              "      quickchartButtonEl.classList.remove('colab-df-spinner');\n",
              "      quickchartButtonEl.classList.add('colab-df-quickchart-complete');\n",
              "    }\n",
              "    (() => {\n",
              "      let quickchartButtonEl =\n",
              "        document.querySelector('#df-66c5e459-5879-400d-985b-fbc1592f8d7b button');\n",
              "      quickchartButtonEl.style.display =\n",
              "        google.colab.kernel.accessAllowed ? 'block' : 'none';\n",
              "    })();\n",
              "  </script>\n",
              "</div>\n",
              "    </div>\n",
              "  </div>\n"
            ],
            "application/vnd.google.colaboratory.intrinsic+json": {
              "type": "dataframe",
              "variable_name": "df"
            }
          },
          "metadata": {},
          "execution_count": 5
        }
      ]
    },
    {
      "cell_type": "markdown",
      "source": [
        "# clean the data"
      ],
      "metadata": {
        "id": "Xfh2N-P-65O5"
      }
    },
    {
      "cell_type": "code",
      "source": [
        "# Check for duplicate rows\n",
        "duplicates = df.duplicated()\n",
        "\n",
        "if duplicates.any():\n",
        "    print(\"There are duplicate rows in the concatenated DataFrame.\")\n",
        "else:\n",
        "    print(\"There are no duplicate rows in the concatenated DataFrame.\")"
      ],
      "metadata": {
        "colab": {
          "base_uri": "https://localhost:8080/"
        },
        "id": "JdlPrjzgKAWw",
        "outputId": "a60dba56-8f70-4a99-a84b-a4d7ede033c8"
      },
      "execution_count": null,
      "outputs": [
        {
          "output_type": "stream",
          "name": "stdout",
          "text": [
            "There are no duplicate rows in the concatenated DataFrame.\n"
          ]
        }
      ]
    },
    {
      "cell_type": "markdown",
      "source": [],
      "metadata": {
        "id": "7wUSI-A566L2"
      }
    },
    {
      "cell_type": "code",
      "source": [
        "# 1. Drop a column\n",
        "column_to_drop = 'Unnamed: 0'\n",
        "df = df.drop(columns=[column_to_drop])"
      ],
      "metadata": {
        "id": "8_30LuflMf3N"
      },
      "execution_count": 4,
      "outputs": []
    },
    {
      "cell_type": "code",
      "source": [
        "df = df.drop(columns = ['title', 'Status', 'Premiered', 'Licensors'])"
      ],
      "metadata": {
        "id": "dUYk3TkRE6kW"
      },
      "execution_count": 5,
      "outputs": []
    },
    {
      "cell_type": "code",
      "source": [
        "def process_column(value):\n",
        "    if pd.isna(value):\n",
        "        return value\n",
        "    if isinstance(value, str) and value.startswith('[') and value.endswith(']'):\n",
        "        return value[1:-1].replace(\"'\", \"\")\n",
        "    return value\n",
        "\n",
        "df = df.applymap(process_column)\n"
      ],
      "metadata": {
        "id": "bngWOlgaStJi"
      },
      "execution_count": 6,
      "outputs": []
    },
    {
      "cell_type": "code",
      "source": [
        "df['Ranked'] = df['Ranked'].str.replace('#', '')\n",
        "df['Popularity'] = df['Popularity'].str.replace('#', '')"
      ],
      "metadata": {
        "id": "mH28x0BuMi_Q"
      },
      "execution_count": 7,
      "outputs": []
    },
    {
      "cell_type": "markdown",
      "source": [
        "### remove ',' and convert the numerical columns from string to float\n",
        "\n",
        "\n",
        "\n"
      ],
      "metadata": {
        "id": "1VrRH0iD7M4n"
      }
    },
    {
      "cell_type": "code",
      "source": [
        "columns_to_convert = ['Members', 'Favorites', 'Popularity', 'Ranked']\n",
        "\n",
        "for col in columns_to_convert:\n",
        "    df[col] = df[col].astype(str).str.replace(',', '').astype(float)\n"
      ],
      "metadata": {
        "id": "H0NGosaZXS1z"
      },
      "execution_count": 8,
      "outputs": []
    },
    {
      "cell_type": "code",
      "source": [
        "df['Episodes'] = pd.to_numeric(df['Episodes'], errors='coerce')\n",
        "df['Score'] = pd.to_numeric(df['Score'], errors='coerce')\n",
        "\n",
        "df['Members'] = pd.to_numeric(df['Members'], errors='coerce')\n",
        "df['Favorites'] = pd.to_numeric(df['Favorites'], errors='coerce')\n",
        "df['Aired'] = df['Aired'].apply(lambda x: x.strip())"
      ],
      "metadata": {
        "id": "rvlIhnkwFwDO"
      },
      "execution_count": 9,
      "outputs": []
    },
    {
      "cell_type": "code",
      "source": [
        "import re\n",
        "\n",
        "def duration_to_seconds(duration):\n",
        "    # Initialize total_seconds\n",
        "    total_seconds = 0\n",
        "\n",
        "    # Check if duration is a string\n",
        "    if isinstance(duration, str):\n",
        "        # Regular expressions for hours, minutes, and seconds\n",
        "        hours_pattern = re.compile(r'(\\d+)\\s*hr')\n",
        "        minutes_pattern = re.compile(r'(\\d+)\\s*min')\n",
        "        seconds_pattern = re.compile(r'(\\d+)\\s*sec')\n",
        "\n",
        "        # Search for hours, minutes, and seconds in the duration string\n",
        "        hours = hours_pattern.search(duration)\n",
        "        minutes = minutes_pattern.search(duration)\n",
        "        seconds = seconds_pattern.search(duration)\n",
        "\n",
        "        # Convert hours to seconds and add to total\n",
        "        if hours:\n",
        "            total_seconds += int(hours.group(1)) * 3600\n",
        "\n",
        "        # Convert minutes to seconds and add to total\n",
        "        if minutes:\n",
        "            total_seconds += int(minutes.group(1)) * 60\n",
        "\n",
        "        # Add seconds to total\n",
        "        if seconds:\n",
        "            total_seconds += int(seconds.group(1))\n",
        "\n",
        "    return total_seconds\n"
      ],
      "metadata": {
        "id": "Fo7ElMznD15C"
      },
      "execution_count": 10,
      "outputs": []
    },
    {
      "cell_type": "code",
      "source": [
        "# Apply the duration_to_seconds function to the duration column\n",
        "df['Duration_minutes'] = df['Duration'].apply(duration_to_seconds)/60.0"
      ],
      "metadata": {
        "id": "14tVMTATEAOT"
      },
      "execution_count": 11,
      "outputs": []
    },
    {
      "cell_type": "code",
      "source": [
        "df['Episodic'] = df['Duration'].apply(lambda x: 1 if isinstance(x, str) and 'per ep.' in x else (np.nan if pd.isnull(x) else 0))\n"
      ],
      "metadata": {
        "id": "0DdOflc6Hygn"
      },
      "execution_count": 12,
      "outputs": []
    },
    {
      "cell_type": "code",
      "source": [
        "df.replace('', np.nan, inplace=True)"
      ],
      "metadata": {
        "id": "pr_Utlx9GXbt"
      },
      "execution_count": 13,
      "outputs": []
    },
    {
      "cell_type": "code",
      "source": [
        "folder_path_aired = '/content/drive/My Drive/Aired_df.csv'\n",
        "\n",
        "# Load the CSV files\n",
        "df_aired = pd.read_csv(folder_path_aired)\n",
        "df_aired = df_aired.drop(columns=['Aired', 'Unnamed: 0'])"
      ],
      "metadata": {
        "id": "ZB0Hnl5UEbtG"
      },
      "execution_count": 14,
      "outputs": []
    },
    {
      "cell_type": "code",
      "source": [
        "# Concatenate df1 and df2 along columns\n",
        "df = pd.concat([df, df_aired], axis=1)"
      ],
      "metadata": {
        "id": "gT63NDZKEe8I"
      },
      "execution_count": 15,
      "outputs": []
    },
    {
      "cell_type": "code",
      "source": [
        "# Replace 'not available' with np.nan in 'start_aired' column\n",
        "df['Start_Aired'] = df['Start_Aired'].replace('not available', np.nan)\n",
        "\n",
        "# Replace '-' with '0' in 'start_aired' column\n",
        "df['Start_Aired'] = df['Start_Aired'].str.replace('-', '0')\n",
        "\n",
        "# Convert 'start_aired' column to datetime format\n",
        "df['Start_Aired'] = pd.to_datetime(df['Start_Aired'], format='%Y/%m/%d', errors='coerce')\n"
      ],
      "metadata": {
        "id": "shVLeoxyMTSj"
      },
      "execution_count": 16,
      "outputs": []
    },
    {
      "cell_type": "code",
      "source": [
        "# Replace 'not available' and '?' with np.nan in 'End_Aired' column\n",
        "df['End_Aired'] = df['End_Aired'].replace('not available', np.nan)\n",
        "#df['End_Aired'] = df['End_Aired'].replace('?', np.nan)\n",
        "\n",
        "# Replace '-' with '0' in 'End_Aired' column\n",
        "df['End_Aired'] = df['End_Aired'].str.replace('-', '0')\n",
        "\n",
        "# Convert 'End_Aired' column to datetime format\n",
        "df['End_Aired'] = pd.to_datetime(df['End_Aired'], format='%Y/%m/%d', errors='coerce')\n"
      ],
      "metadata": {
        "id": "5ptHwxQVMawI"
      },
      "execution_count": 17,
      "outputs": []
    },
    {
      "cell_type": "code",
      "source": [
        "df.dropna(subset=['Episodes'], inplace=True)"
      ],
      "metadata": {
        "id": "54fCyc6uGiJQ"
      },
      "execution_count": 18,
      "outputs": []
    },
    {
      "cell_type": "code",
      "source": [
        "df.info()"
      ],
      "metadata": {
        "colab": {
          "base_uri": "https://localhost:8080/"
        },
        "id": "zmACAs3UQG0D",
        "outputId": "af3bf977-2c07-41c5-cc8f-99fba538ca57"
      },
      "execution_count": null,
      "outputs": [
        {
          "output_type": "stream",
          "name": "stdout",
          "text": [
            "<class 'pandas.core.frame.DataFrame'>\n",
            "Index: 25908 entries, 0 to 26439\n",
            "Data columns (total 21 columns):\n",
            " #   Column            Non-Null Count  Dtype         \n",
            "---  ------            --------------  -----         \n",
            " 0   Type              21993 non-null  object        \n",
            " 1   Episodes          25908 non-null  float64       \n",
            " 2   Aired             25908 non-null  object        \n",
            " 3   Producers         25908 non-null  object        \n",
            " 4   Studios           25908 non-null  object        \n",
            " 5   Source            24139 non-null  object        \n",
            " 6   Genres            11188 non-null  object        \n",
            " 7   Demographic       9808 non-null   object        \n",
            " 8   Duration          25908 non-null  object        \n",
            " 9   Rating            25553 non-null  object        \n",
            " 10  Score             17084 non-null  float64       \n",
            " 11  Ranked            20460 non-null  float64       \n",
            " 12  Popularity        25908 non-null  float64       \n",
            " 13  Members           25908 non-null  float64       \n",
            " 14  Favorites         25908 non-null  float64       \n",
            " 15  staff             17705 non-null  object        \n",
            " 16  Duration_minutes  25908 non-null  float64       \n",
            " 17  Episodic          25908 non-null  int64         \n",
            " 18  Start_Aired       21287 non-null  datetime64[ns]\n",
            " 19  End_Aired         9917 non-null   datetime64[ns]\n",
            " 20  Valid_Format      25908 non-null  bool          \n",
            "dtypes: bool(1), datetime64[ns](2), float64(7), int64(1), object(10)\n",
            "memory usage: 4.2+ MB\n"
          ]
        }
      ]
    },
    {
      "cell_type": "markdown",
      "source": [
        "## Analysing the relation between the columns"
      ],
      "metadata": {
        "id": "DizV2et07xKx"
      }
    },
    {
      "cell_type": "code",
      "source": [
        "# Create a boolean Series where True indicates rows where 'Episodes' is 1\n",
        "episodes_is_one = df['Episodes'] == 1\n",
        "\n",
        "# Create a boolean Series where True indicates rows where 'Aired' contains 'to'\n",
        "aired_contains_to = df['Aired'].astype('str').str.contains('to')\n",
        "\n",
        "# Combine the two Series using the bitwise AND operator (&)\n",
        "# This will give a Series where True indicates rows where 'Episodes' is 1 AND 'Aired' contains 'to'\n",
        "invalid_rows = episodes_is_one & aired_contains_to\n",
        "\n",
        "# Print the invalid rows\n",
        "print(df[invalid_rows])"
      ],
      "metadata": {
        "colab": {
          "base_uri": "https://localhost:8080/"
        },
        "id": "BaWpv914k6Jj",
        "outputId": "061de434-d49d-438e-87b1-5ce37eaed3d5"
      },
      "execution_count": null,
      "outputs": [
        {
          "output_type": "stream",
          "name": "stdout",
          "text": [
            "          Type  Episodes                         Aired  \\\n",
            "4682   Special       1.0  Sep 21, 2008 to Nov 23, 2008   \n",
            "4862   Special       1.0  Jul 30, 2008 to Aug 11, 2008   \n",
            "10501    Movie       1.0                 Feb 1917 to ?   \n",
            "12313    Movie       1.0                 Jan 1917 to ?   \n",
            "13621    Movie       1.0                     2021 to ?   \n",
            "13666    Movie       1.0             Jul 20, 2023 to ?   \n",
            "14856    Movie       1.0  Feb 10, 2024 to Jan 10, 2024   \n",
            "15666    Movie       1.0             Jul 22, 2023 to ?   \n",
            "16002      OVA       1.0             Jul 21, 1991 to ?   \n",
            "16075      OVA       1.0  Feb 10, 2008 to Feb 11, 2008   \n",
            "16224    Movie       1.0              Oct 7, 1917 to ?   \n",
            "16390    Movie       1.0              Aug 4, 2017 to ?   \n",
            "17079      ONA       1.0             Feb 14, 2023 to ?   \n",
            "17661      OVA       1.0                     2006 to ?   \n",
            "17677    Movie       1.0              Sep 9, 1917 to ?   \n",
            "18558    Movie       1.0             Jul 20, 2004 to ?   \n",
            "19065    Movie       1.0              Apr 8, 2018 to ?   \n",
            "19068    Movie       1.0              Feb 6, 2020 to ?   \n",
            "19069    Movie       1.0             Sep 30, 2020 to ?   \n",
            "19070    Movie       1.0              Feb 5, 2015 to ?   \n",
            "19073    Movie       1.0              Feb 4, 2016 to ?   \n",
            "19922    Movie       1.0    Jun 1, 2012 to May 1, 2012   \n",
            "20177    Movie       1.0             Aug 10, 2023 to ?   \n",
            "20497    Movie       1.0             Sep 15, 2016 to ?   \n",
            "21323      NaN       1.0             Mar 11, 2022 to ?   \n",
            "22759      NaN       1.0   May 17, 2011 to Nov 8, 2011   \n",
            "22816      NaN       1.0    Jun 3, 2012 to Jun 9, 2012   \n",
            "22820      NaN       1.0  Feb 24, 2012 to Mar 15, 2012   \n",
            "23848      NaN       1.0             Nov 13, 2022 to ?   \n",
            "23889    Movie       1.0                     2024 to ?   \n",
            "24782    Movie       1.0                     2024 to ?   \n",
            "25459  Special       1.0  Jul 25, 2005 to Apr 25, 2006   \n",
            "26312      OVA       1.0  Dec 23, 1994 to Dec 24, 1994   \n",
            "\n",
            "                                   Producers              Studios  \\\n",
            "4682                                add some               Gallop   \n",
            "4862                              Shogakukan              Sunrise   \n",
            "10501                               add some             add some   \n",
            "12313  Tenkatsu Tennenshoku Katsudou Shashin             add some   \n",
            "13621                               add some             add some   \n",
            "13666                               add some             add some   \n",
            "14856                               add some             add some   \n",
            "15666                               add some             add some   \n",
            "16002                               add some             add some   \n",
            "16075                               add some             add some   \n",
            "16224                               add some             add some   \n",
            "16390                               add some             add some   \n",
            "17079                               add some           Steamworks   \n",
            "17661                               add some             add some   \n",
            "17677                               add some             add some   \n",
            "18558                               add some             add some   \n",
            "19065                               add some  SAMG Entertainment    \n",
            "19068                               add some  SAMG Entertainment    \n",
            "19069                               add some  SAMG Entertainment    \n",
            "19070                               add some  SAMG Entertainment    \n",
            "19073                               add some  SAMG Entertainment    \n",
            "19922                               add some             add some   \n",
            "20177                               add some             add some   \n",
            "20497                               add some             add some   \n",
            "21323                               add some               Mimoid   \n",
            "22759                               add some             Madhouse   \n",
            "22816                               add some      Madhouse, MAPPA   \n",
            "22820                               add some      Madhouse, MAPPA   \n",
            "23848                               add some                 LICO   \n",
            "23889                          Avex Pictures         Science SARU   \n",
            "24782                               add some             add some   \n",
            "25459     Milky Animation Label, MS Pictures           Studio Jam   \n",
            "26312                              Five Ways                 Echo   \n",
            "\n",
            "             Source                  Genres Demographic       Duration  \\\n",
            "4682          Manga         Fantasy, Sci-Fi         NaN        28 min.   \n",
            "4862          Manga          Comedy, Sci-Fi         NaN         3 min.   \n",
            "10501      Original                     NaN         NaN         5 min.   \n",
            "12313      Original                     NaN         NaN         8 min.   \n",
            "13621      Original                     NaN         NaN        18 min.   \n",
            "13666      Original                     NaN        Kids  1 hr. 29 min.   \n",
            "14856      Original                     NaN        Kids  1 hr. 20 min.   \n",
            "15666      Original      Adventure, Fantasy        Kids  1 hr. 27 min.   \n",
            "16002      Original           Drama, Sci-Fi         NaN        15 min.   \n",
            "16075       Unknown                     NaN        Kids        35 min.   \n",
            "16224      Original                     NaN         NaN        Unknown   \n",
            "16390      Original      Adventure, Fantasy        Kids  1 hr. 16 min.   \n",
            "17079      Original                     NaN         NaN         2 min.   \n",
            "17661       Unknown                     NaN        Kids        24 min.   \n",
            "17677      Original                     NaN         NaN        Unknown   \n",
            "18558         Other                     NaN        Kids  1 hr. 52 min.   \n",
            "19065      Original                     NaN        Kids   1 hr. 8 min.   \n",
            "19068      Original                     NaN        Kids  1 hr. 13 min.   \n",
            "19069      Original                     NaN        Kids  1 hr. 26 min.   \n",
            "19070      Original                     NaN        Kids          1 hr.   \n",
            "19073      Original                     NaN        Kids   1 hr. 8 min.   \n",
            "19922         Other                     NaN        Kids  1 hr. 30 min.   \n",
            "20177      Original       Action, Adventure        Kids  1 hr. 13 min.   \n",
            "20497      Original          Action, Sci-Fi        Kids  1 hr. 27 min.   \n",
            "21323      Original                     NaN         NaN         2 min.   \n",
            "22759      Original  Romance, Slice of Life         NaN         3 min.   \n",
            "22816      Original                     NaN         NaN         4 min.   \n",
            "22820      Original                     NaN         NaN         6 min.   \n",
            "23848      Original                     NaN         NaN         2 min.   \n",
            "23889      Original                     NaN         NaN        18 min.   \n",
            "24782         Other                     NaN        Kids        Unknown   \n",
            "25459  Visual novel                     NaN         NaN        10 min.   \n",
            "26312           NaN                     NaN         NaN        45 min.   \n",
            "\n",
            "                          Rating  ...   Ranked  Popularity  Members  \\\n",
            "4682   PG-13 - Teens 13 or older  ...   4683.0      6220.0  10660.0   \n",
            "4862   PG-13 - Teens 13 or older  ...   4863.0      8787.0   4531.0   \n",
            "10501               G - All Ages  ...  10225.0     12129.0   1546.0   \n",
            "12313               G - All Ages  ...  12232.0     13133.0   1135.0   \n",
            "13621  PG-13 - Teens 13 or older  ...  13623.0     26210.0     58.0   \n",
            "13666              PG - Children  ...  13669.0     22231.0    116.0   \n",
            "14856              PG - Children  ...  14867.0     24586.0     73.0   \n",
            "15666              PG - Children  ...  18391.0     23038.0     97.0   \n",
            "16002                        NaN  ...  18727.0     21933.0    125.0   \n",
            "16075              PG - Children  ...  18799.0     16946.0    422.0   \n",
            "16224               G - All Ages  ...  18949.0     15503.0    578.0   \n",
            "16390              PG - Children  ...  19115.0     23507.0     90.0   \n",
            "17079               G - All Ages  ...  19812.0     20443.0    199.0   \n",
            "17661               G - All Ages  ...  20407.0     20325.0    205.0   \n",
            "17677               G - All Ages  ...  20423.0     20861.0    176.0   \n",
            "18558               G - All Ages  ...  16009.0     23266.0     93.0   \n",
            "19065              PG - Children  ...  19113.0     24783.0     71.0   \n",
            "19068              PG - Children  ...  19116.0     24027.0     82.0   \n",
            "19069              PG - Children  ...  19117.0     24264.0     78.0   \n",
            "19070              PG - Children  ...  19118.0     24352.0     77.0   \n",
            "19073              PG - Children  ...  19121.0     24050.0     81.0   \n",
            "19922               G - All Ages  ...  17381.0     23730.0     86.0   \n",
            "20177               G - All Ages  ...  17637.0     22884.0    100.0   \n",
            "20497               G - All Ages  ...  17956.0     22431.0    110.0   \n",
            "21323  PG-13 - Teens 13 or older  ...      NaN     17909.0    351.0   \n",
            "22759               G - All Ages  ...      NaN     11555.0   1885.0   \n",
            "22816               G - All Ages  ...      NaN     12667.0   1299.0   \n",
            "22820               G - All Ages  ...      NaN     12423.0   1407.0   \n",
            "23848  PG-13 - Teens 13 or older  ...      NaN     20661.0    187.0   \n",
            "23889  PG-13 - Teens 13 or older  ...      NaN      8952.0   4375.0   \n",
            "24782                        NaN  ...      NaN     13885.0    914.0   \n",
            "25459                Rx - Hentai  ...      NaN      5618.0  13916.0   \n",
            "26312                Rx - Hentai  ...      NaN     11557.0   1884.0   \n",
            "\n",
            "       Favorites                                              staff  \\\n",
            "4682         6.0  Hishikawa, Naoki, Hiramitsu, Takuya, Takahashi...   \n",
            "4862         9.0                 Yokote, Michiko, Takahashi, Rumiko   \n",
            "10501       11.0                                 Shimokawa, Hekoten   \n",
            "12313        2.0                                 Shimokawa, Hekoten   \n",
            "13621        0.0                                                NaN   \n",
            "13666        0.0                                                NaN   \n",
            "14856        0.0                                                NaN   \n",
            "15666        0.0                                                NaN   \n",
            "16002        0.0                                                NaN   \n",
            "16075        0.0                                                NaN   \n",
            "16224        0.0                                 Kitayama, Seitarou   \n",
            "16390        0.0                                                NaN   \n",
            "17079        0.0                                                NaN   \n",
            "17661        0.0                                                NaN   \n",
            "17677        0.0                                 Shimokawa, Hekoten   \n",
            "18558        0.0                                                NaN   \n",
            "19065        0.0                                                NaN   \n",
            "19068        0.0                                                NaN   \n",
            "19069        0.0                                                NaN   \n",
            "19070        0.0                                                NaN   \n",
            "19073        0.0                                                NaN   \n",
            "19922        0.0                                                NaN   \n",
            "20177        0.0                                                NaN   \n",
            "20497        0.0                                                NaN   \n",
            "21323        1.0                                  Hiraoka, Masanobu   \n",
            "22759        2.0        Maruyama, Masao, Nakamura, Yusuke, Rintarou   \n",
            "22816        0.0  Futamura, Hideki, Nishino, Kana, Nakamura, Yusuke   \n",
            "22820        0.0  Maruyama, Masao, Mizuki, Nana, Nakamura, Yusuk...   \n",
            "23848        0.0                                                NaN   \n",
            "23889       10.0  Yamada, Naoko, Moaang, Lovely Summer-chan, Miz...   \n",
            "24782        3.0                           Mankyuu, Kakihara, Yuuko   \n",
            "25459       33.0                       Sei Shoujo, Yoshiten, Active   \n",
            "26312        2.0  Fujimoto, Yoshitaka, Kumazawa, Hideki, Yamaguc...   \n",
            "\n",
            "      Duration_minutes  Episodic  Start_Aired  End_Aired Valid_Format  \n",
            "4682              28.0         0   2008-09-21 2008-11-23         True  \n",
            "4862               3.0         0   2008-07-30 2008-08-11         True  \n",
            "10501              5.0         0          NaT        NaT         True  \n",
            "12313              8.0         0          NaT        NaT         True  \n",
            "13621             18.0         0          NaT        NaT         True  \n",
            "13666             89.0         0   2023-07-20        NaT         True  \n",
            "14856             80.0         0   2024-02-10 2024-01-10         True  \n",
            "15666             87.0         0   2023-07-22        NaT         True  \n",
            "16002             15.0         0   1991-07-21        NaT         True  \n",
            "16075             35.0         0   2008-02-10 2008-02-11         True  \n",
            "16224              0.0         0   1917-10-07        NaT         True  \n",
            "16390             76.0         0   2017-08-04        NaT         True  \n",
            "17079              2.0         0   2023-02-14        NaT         True  \n",
            "17661             24.0         0          NaT        NaT         True  \n",
            "17677              0.0         0   1917-09-09        NaT         True  \n",
            "18558            112.0         0   2004-07-20        NaT         True  \n",
            "19065             68.0         0   2018-04-08        NaT         True  \n",
            "19068             73.0         0   2020-02-06        NaT         True  \n",
            "19069             86.0         0   2020-09-30        NaT         True  \n",
            "19070             60.0         0   2015-02-05        NaT         True  \n",
            "19073             68.0         0   2016-02-04        NaT         True  \n",
            "19922             90.0         0   2012-06-01 2012-05-01         True  \n",
            "20177             73.0         0   2023-08-10        NaT         True  \n",
            "20497             87.0         0   2016-09-15        NaT         True  \n",
            "21323              2.0         0   2022-03-11        NaT         True  \n",
            "22759              3.0         0   2011-05-17 2011-11-08         True  \n",
            "22816              4.0         0   2012-06-03 2012-06-09         True  \n",
            "22820              6.0         0   2012-02-24 2012-03-15         True  \n",
            "23848              2.0         0   2022-11-13        NaT         True  \n",
            "23889             18.0         0          NaT        NaT         True  \n",
            "24782              0.0         0          NaT        NaT         True  \n",
            "25459             10.0         0   2005-07-25 2006-04-25         True  \n",
            "26312             45.0         0   1994-12-23 1994-12-24         True  \n",
            "\n",
            "[33 rows x 21 columns]\n"
          ]
        }
      ]
    },
    {
      "cell_type": "code",
      "source": [],
      "metadata": {
        "id": "QbThTZstikJq"
      },
      "execution_count": null,
      "outputs": []
    },
    {
      "cell_type": "markdown",
      "source": [
        "so whenever there is 'to' in Aired column the anime is episodic"
      ],
      "metadata": {
        "id": "NCeDTZBt72wy"
      }
    },
    {
      "cell_type": "code",
      "source": [
        "# Create a boolean Series where True indicates rows where 'Episodes' is 1\n",
        "episodes_is_one = df['Episodes'] == 1\n",
        "\n",
        "# Create a boolean Series where True indicates rows where 'Duration' contains 'per ep.'\n",
        "duration_contains_per_ep = df['Duration'].str.contains('per ep.')\n",
        "\n",
        "# Combine the two Series using the bitwise AND operator (&)\n",
        "# This will give a Series where True indicates rows where 'Episodes' is 1 AND 'Duration' contains 'per ep.'\n",
        "invalid_rows = episodes_is_one & duration_contains_per_ep\n",
        "\n",
        "# Print the invalid rows\n",
        "print(df[invalid_rows])\n"
      ],
      "metadata": {
        "colab": {
          "base_uri": "https://localhost:8080/"
        },
        "id": "EOjYJCfAUaba",
        "outputId": "f9bc11dd-c6f2-48ab-ceba-353ee2bfdc57"
      },
      "execution_count": 19,
      "outputs": [
        {
          "output_type": "stream",
          "name": "stdout",
          "text": [
            "Empty DataFrame\n",
            "Columns: [Type, Episodes, Aired, Producers, Studios, Source, Genres, Demographic, Duration, Rating, Score, Ranked, Popularity, Members, Favorites, staff, Duration_minutes, Episodic, Start_Aired, End_Aired, Valid_Format]\n",
            "Index: []\n",
            "\n",
            "[0 rows x 21 columns]\n"
          ]
        }
      ]
    },
    {
      "cell_type": "markdown",
      "source": [
        "so whenever there is 'per ep.' in Duration column the anime is episodic"
      ],
      "metadata": {
        "id": "Z5xKywpw8DzA"
      }
    },
    {
      "cell_type": "code",
      "source": [
        "# Count the number of strings that contain 'to ?'\n",
        "count_to_question = df['Aired'].str.contains('to \\?', regex=True).sum()\n",
        "print(f\"Number of strings that contain 'to ?': {count_to_question}\")\n",
        "\n",
        "# Count the number of strings that contain '?'\n",
        "count_question = df['Aired'].str.contains('\\?', regex=True).sum()\n",
        "print(f\"Number of strings that contain '?': {count_question}\")\n"
      ],
      "metadata": {
        "colab": {
          "base_uri": "https://localhost:8080/"
        },
        "id": "KNUcBH5fq38K",
        "outputId": "c52aef42-f3a2-4f98-80c8-26959cb3c4ba"
      },
      "execution_count": null,
      "outputs": [
        {
          "output_type": "stream",
          "name": "stdout",
          "text": [
            "Number of strings that contain 'to ?': 1554\n",
            "Number of strings that contain '?': 1554\n"
          ]
        }
      ]
    },
    {
      "cell_type": "markdown",
      "source": [
        "so in Aired column there is '?' just in the End_Aired"
      ],
      "metadata": {
        "id": "nfPIuerX8KaW"
      }
    },
    {
      "cell_type": "code",
      "source": [
        "print(df[df['Aired'].str.contains('\\?', regex=True)])"
      ],
      "metadata": {
        "colab": {
          "base_uri": "https://localhost:8080/"
        },
        "id": "9eNH2VN6qt-m",
        "outputId": "79e49383-a027-4b55-cf76-ab73bb2f5619"
      },
      "execution_count": null,
      "outputs": [
        {
          "output_type": "stream",
          "name": "stdout",
          "text": [
            "        Type  Episodes              Aired  \\\n",
            "72        TV      13.0   Apr 7, 2024 to ?   \n",
            "116       TV      11.0  Apr 10, 2024 to ?   \n",
            "155       TV      12.0   Apr 4, 2024 to ?   \n",
            "158    Movie       2.0  Feb 16, 2024 to ?   \n",
            "220       TV      12.0   Apr 8, 2024 to ?   \n",
            "...      ...       ...                ...   \n",
            "24077    NaN       4.0      Oct 2024 to ?   \n",
            "24243    ONA       6.0          2024 to ?   \n",
            "24378  Movie       3.0   Sep 6, 2024 to ?   \n",
            "24782  Movie       1.0          2024 to ?   \n",
            "24802     TV      12.0   Jul 4, 2024 to ?   \n",
            "\n",
            "                                               Producers          Studios  \\\n",
            "72     Lantis, Pony Canyon, Rakuonsha, ABC Animation,...  Kyoto Animation   \n",
            "116    Half H.P Studio, Nippon Columbia, 81 Produce, ...            Drive   \n",
            "155    Sotsu, Half H.P Studio, AT-X, KlockWorx, Houbu...             8bit   \n",
            "158                             TOHO animation, Shueisha   Production I.G   \n",
            "220    Frontier Works, TOHO animation, Hakuhodo DY Mu...      Studio Bind   \n",
            "...                                                  ...              ...   \n",
            "24077                                           add some         add some   \n",
            "24243                                           add some   SAFEHOUSE Inc.   \n",
            "24378           Lantis, Shochiku, Bandai Namco Filmworks          Sunrise   \n",
            "24782                                           add some         add some   \n",
            "24802  Tohokushinsha Film Corporation, Good Smile Com...   E&H Production   \n",
            "\n",
            "            Source                            Genres Demographic  \\\n",
            "72           Novel                               NaN         NaN   \n",
            "116    Light novel        Adventure, Comedy, Fantasy         NaN   \n",
            "155          Manga                               NaN         NaN   \n",
            "158          Manga                               NaN     Shounen   \n",
            "220    Light novel  Adventure, Drama, Fantasy, Ecchi         NaN   \n",
            "...            ...                               ...         ...   \n",
            "24077          NaN              Comedy, Supernatural         NaN   \n",
            "24243     Original                    Action, Sci-Fi         NaN   \n",
            "24378     Original                               NaN         NaN   \n",
            "24782        Other                               NaN        Kids   \n",
            "24802          NaN                               NaN     Shounen   \n",
            "\n",
            "                    Duration                          Rating  ...  Ranked  \\\n",
            "72           24 min. per ep.       PG-13 - Teens 13 or older  ...    73.0   \n",
            "116          23 min. per ep.       PG-13 - Teens 13 or older  ...   117.0   \n",
            "155          23 min. per ep.       PG-13 - Teens 13 or older  ...   156.0   \n",
            "158    1 hr. 25 min. per ep.       PG-13 - Teens 13 or older  ...   159.0   \n",
            "220          23 min. per ep.  R - 17+ (violence & profanity)  ...   221.0   \n",
            "...                      ...                             ...  ...     ...   \n",
            "24077                Unknown       PG-13 - Teens 13 or older  ...     NaN   \n",
            "24243        30 min. per ep.                             NaN  ...     NaN   \n",
            "24378                Unknown       PG-13 - Teens 13 or older  ...     NaN   \n",
            "24782                Unknown                             NaN  ...     NaN   \n",
            "24802                Unknown                             NaN  ...     NaN   \n",
            "\n",
            "       Popularity   Members  Favorites  \\\n",
            "72         3064.0   51655.0      232.0   \n",
            "116         735.0  325788.0     3796.0   \n",
            "155        2727.0   64231.0      341.0   \n",
            "158        2057.0  101373.0      762.0   \n",
            "220         969.0  250748.0     1364.0   \n",
            "...           ...       ...        ...   \n",
            "24077      7370.0    7168.0        8.0   \n",
            "24243      9558.0    3568.0        8.0   \n",
            "24378      8508.0    5030.0       10.0   \n",
            "24782     13885.0     914.0        3.0   \n",
            "24802     10717.0    2463.0        4.0   \n",
            "\n",
            "                                                   staff Duration_minutes  \\\n",
            "72     Usukura, Ryuutarou, Yarimizu, Yoshifumi, Ishih...             24.0   \n",
            "116    Ogura, Rie, Taniguchi, Hiroyasu, Miyakoshi, To...             23.0   \n",
            "155    Oowada, Tomoyuki, Watase, Shouta, Kobayashi, H...             23.0   \n",
            "158    Maeda, Toshihiro, Morihiro, Fumi, Taguchi, Sho...             85.0   \n",
            "220    Oowada, Tomoyuki, Shibuya, Ryousuke, Aketagawa...             23.0   \n",
            "...                                                  ...              ...   \n",
            "24077                                          Aida, Iro              0.0   \n",
            "24243                                  Yamane, Kimitoshi             30.0   \n",
            "24378  Kawamura, Tomoyuki, Nagasaki, Yukio, Yatate, H...              0.0   \n",
            "24782                           Mankyuu, Kakihara, Yuuko              0.0   \n",
            "24802  Shimizu, Hisatoshi, Maeda, Akane, Kubo, Tooru,...              0.0   \n",
            "\n",
            "       Episodic  Start_Aired End_Aired Valid_Format  \n",
            "72            1   2024-04-07       NaT         True  \n",
            "116           1   2024-04-10       NaT         True  \n",
            "155           1   2024-04-04       NaT         True  \n",
            "158           1   2024-02-16       NaT         True  \n",
            "220           1   2024-04-08       NaT         True  \n",
            "...         ...          ...       ...          ...  \n",
            "24077         0          NaT       NaT         True  \n",
            "24243         1          NaT       NaT         True  \n",
            "24378         0   2024-09-06       NaT         True  \n",
            "24782         0          NaT       NaT         True  \n",
            "24802         0   2024-07-04       NaT         True  \n",
            "\n",
            "[1554 rows x 21 columns]\n"
          ]
        }
      ]
    },
    {
      "cell_type": "markdown",
      "source": [
        "## unique values for each column"
      ],
      "metadata": {
        "id": "6cwj1xMUjFoh"
      }
    },
    {
      "cell_type": "code",
      "source": [
        "# Suppose 'Genres' and 'Actors' are the columns you want to find unique values for\n",
        "columns_to_explode = ['Genres']\n",
        "\n",
        "for col in columns_to_explode:\n",
        "    unique_values = df[col].str.split(', ').explode().unique()\n",
        "    print(f\"Unique values in {col}: {unique_values}\")\n"
      ],
      "metadata": {
        "colab": {
          "base_uri": "https://localhost:8080/"
        },
        "id": "HkhDmGINcmCb",
        "outputId": "3ba576a9-fc69-4651-bd0c-28cbd8ea4a35"
      },
      "execution_count": null,
      "outputs": [
        {
          "output_type": "stream",
          "name": "stdout",
          "text": [
            "Unique values in Genres: ['Adventure' 'Drama' 'Fantasy' 'Action' 'Sci-Fi' 'Suspense' 'Comedy'\n",
            " 'Romance' 'Supernatural' 'Award Winning' 'Mystery' nan 'Sports'\n",
            " 'Slice of Life' 'Ecchi' 'Horror' 'Avant Garde' 'Boys Love' 'Gourmet'\n",
            " 'Girls Love' 'Hentai' 'Erotica']\n"
          ]
        }
      ]
    },
    {
      "cell_type": "code",
      "source": [
        "# Suppose 'Rating' is the name of your column\n",
        "unique_values = df['Rating'].unique()\n",
        "\n",
        "print(unique_values)\n"
      ],
      "metadata": {
        "colab": {
          "base_uri": "https://localhost:8080/"
        },
        "outputId": "d2712771-3694-43b7-8b83-cee9247e3627",
        "id": "jmkTWrgHlSf-"
      },
      "execution_count": null,
      "outputs": [
        {
          "output_type": "stream",
          "name": "stdout",
          "text": [
            "['PG-13 - Teens 13 or older' 'R - 17+ (violence & profanity)'\n",
            " 'R+ - Mild Nudity' 'PG - Children' 'G - All Ages' nan 'Rx - Hentai']\n"
          ]
        }
      ]
    },
    {
      "cell_type": "code",
      "source": [
        "# Suppose 'Type' is the name of your column\n",
        "unique_values = df['Type'].unique()\n",
        "\n",
        "print(unique_values)"
      ],
      "metadata": {
        "colab": {
          "base_uri": "https://localhost:8080/"
        },
        "outputId": "ae836a0c-c514-43ef-96ea-08736fb2571e",
        "id": "K1849smFnKG-"
      },
      "execution_count": null,
      "outputs": [
        {
          "output_type": "stream",
          "name": "stdout",
          "text": [
            "['TV' 'Movie' 'OVA' 'TV Special' 'ONA' 'Special' nan]\n"
          ]
        }
      ]
    },
    {
      "cell_type": "markdown",
      "source": [
        "**TV**: This refers to anime series that are broadcast on television1. They are often based on manga (Japanese comics), but can also have unique or original source material.\n",
        "\n",
        "**Movie**: These are animated films that are typically released in theaters1. Like TV anime, they can be based on manga or have original source material.\n",
        "\n",
        "**OVA (Original Video Animation)**: These are special episodes made separately from the rest of the season episodes2. They are sometimes shorter or longer than regular episodes and are made for home video formats like DVD and Blu-ray2. OVAs can provide backstories for characters, side adventures, or new perspectives on the main plot.\n",
        "\n",
        "**TV Special**: These are anime episodes that are produced for television and, while they may be associated with a franchise or TV series, they typically tell a standalone story that can be consumed by itself.\n",
        "\n",
        "**ONA (Original Net Animation)**: These are anime episodes that are directly released onto the Internet56. They can later be distributed on TV channels once they have been out on the internet.\n",
        "\n",
        "**Special**: This term is often used to refer to episodes that are not part of the main series but provide additional content. They can be broadcasted on TV or released as home videos."
      ],
      "metadata": {
        "id": "fmXeqqgclZx8"
      }
    },
    {
      "cell_type": "code",
      "source": [
        "# Suppose 'Source' is the name of your column\n",
        "unique_values = df['Source'].unique()\n",
        "\n",
        "print(unique_values)"
      ],
      "metadata": {
        "colab": {
          "base_uri": "https://localhost:8080/"
        },
        "id": "lLvUHPGb8uif",
        "outputId": "2e0e031b-64e9-47bd-a264-636b05fbf728"
      },
      "execution_count": null,
      "outputs": [
        {
          "output_type": "stream",
          "name": "stdout",
          "text": [
            "['Manga' 'Visual novel' 'Novel' 'Light novel' 'Original' '4-koma manga'\n",
            " 'Web manga' 'Web novel' 'Game' 'Other' 'Mixed media' 'Book' 'Unknown'\n",
            " 'Music' 'Picture book' 'Card game' 'Radio' nan]\n"
          ]
        }
      ]
    },
    {
      "cell_type": "markdown",
      "source": [
        "In the context of anime, the \"Source\" refers to the original material or medium from which the anime adaptation is derived. Here’s what each unique value typically means:\n",
        "\n",
        "1. **Manga**:\n",
        "   - Japanese comic books or graphic novels. Many anime series are adaptations of popular manga series.\n",
        "\n",
        "2. **Visual Novel**:\n",
        "   - A type of interactive game featuring mostly static graphics, usually with anime-style art, where the player reads through a story and makes choices that affect the outcome.\n",
        "\n",
        "3. **Novel**:\n",
        "   - Traditional written works of fiction. These are standard novels, not specifically targeted as \"light novels.\"\n",
        "\n",
        "4. **Light Novel**:\n",
        "   - A style of Japanese novel primarily targeting middle and high school students. These are often shorter than traditional novels and include manga-style illustrations.\n",
        "\n",
        "5. **Original**:\n",
        "   - Anime that is not based on any pre-existing material and is an original creation for the anime format.\n",
        "\n",
        "6. **4-koma Manga**:\n",
        "   - A type of manga that is divided into four panels of equal size arranged vertically. These are typically comedic or slice-of-life stories.\n",
        "\n",
        "7. **Web Manga**:\n",
        "   - Manga that is published on the internet, usually on specific web platforms or personal websites.\n",
        "\n",
        "8. **Web Novel**:\n",
        "   - Novels that are published online, often on user-generated content platforms. They may be serialized and can later be published as light novels if they gain popularity.\n",
        "\n",
        "9. **Game**:\n",
        "   - Video games, including role-playing games (RPGs), visual novels, and other types of interactive entertainment that have been adapted into anime.\n",
        "\n",
        "10. **Other**:\n",
        "    - Sources that don’t fit neatly into any of the standard categories, such as unique or hybrid media types.\n",
        "\n",
        "11. **Mixed Media**:\n",
        "    - Projects that are part of a multimedia franchise involving various forms of media like manga, anime, games, and novels developed simultaneously.\n",
        "\n",
        "12. **Book**:\n",
        "    - General books that might not fit the categories of novels or light novels, possibly including non-fiction or special interest books.\n",
        "\n",
        "13. **Unknown**:\n",
        "    - The source material is not known or not specified.\n",
        "\n",
        "14. **Music**:\n",
        "    - Anime that is based on or inspired by music, musical groups, or music videos. These are often promotional projects for musical artists.\n",
        "\n",
        "15. **Picture Book**:\n",
        "    - Illustrated books intended for young children, with a narrative told primarily through pictures and some text.\n",
        "\n",
        "16. **Card Game**:\n",
        "    - Anime based on collectible or trading card games, where the narrative might be derived from the lore or gameplay of the card game.\n",
        "\n",
        "17. **Radio**:\n",
        "    - Anime that is adapted from radio dramas or audio plays.\n",
        "\n",
        "18. **nan**:\n",
        "    - This is a placeholder indicating missing data in the dataset, often used in pandas DataFrames to denote \"Not a Number\" or missing values."
      ],
      "metadata": {
        "id": "DIqXFbeb81Xt"
      }
    },
    {
      "cell_type": "code",
      "source": [
        "# Suppose 'Demographic' is the name of your column\n",
        "unique_values = df['Demographic'].unique()\n",
        "\n",
        "print(unique_values)"
      ],
      "metadata": {
        "colab": {
          "base_uri": "https://localhost:8080/"
        },
        "id": "9EUvhpyd86js",
        "outputId": "6d66c041-dab5-404a-e465-3458626da649"
      },
      "execution_count": null,
      "outputs": [
        {
          "output_type": "stream",
          "name": "stdout",
          "text": [
            "['Shounen' nan 'Seinen' 'Shoujo' 'Josei' 'Kids']\n"
          ]
        }
      ]
    },
    {
      "cell_type": "markdown",
      "source": [
        "In the context of anime, \"demographic\" refers to the target audience for which the anime is intended. Each demographic category often corresponds to specific themes, art styles, and storytelling methods that appeal to that group. Here are the unique values you mentioned:\n",
        "\n",
        "1. **Shounen**:\n",
        "   - Target Audience: Young boys, typically aged 12-18.\n",
        "   - Characteristics: Action-packed, adventurous stories with male protagonists. Common themes include friendship, rivalry, and personal growth. Popular shounen anime include \"Naruto,\" \"One Piece,\" and \"Dragon Ball.\"\n",
        "\n",
        "2. **nan**:\n",
        "   - This indicates missing data in the dataset, often used in pandas DataFrames to denote \"Not a Number\" or missing values. It means that the demographic information is not available for those entries.\n",
        "\n",
        "3. **Seinen**:\n",
        "   - Target Audience: Adult men, typically aged 18-40.\n",
        "   - Characteristics: More mature and complex themes, often featuring more realistic art styles and more detailed character development. Topics can range from psychological and philosophical themes to crime and politics. Examples include \"Berserk,\" \"Tokyo Ghoul,\" and \"Ghost in the Shell.\"\n",
        "\n",
        "4. **Shoujo**:\n",
        "   - Target Audience: Young girls, typically aged 10-18.\n",
        "   - Characteristics: Romantic and emotional stories with female protagonists. Common themes include romance, personal relationships, and coming-of-age stories. Notable shoujo anime include \"Sailor Moon,\" \"Fruits Basket,\" and \"Ouran High School Host Club.\"\n",
        "\n",
        "5. **Josei**:\n",
        "   - Target Audience: Adult women, typically aged 18-40.\n",
        "   - Characteristics: More realistic and mature stories focused on romantic relationships, professional lives, and personal growth of adult women. Examples include \"Nana,\" \"Paradise Kiss,\" and \"Honey and Clover.\"\n",
        "\n",
        "6. **Kids**:\n",
        "   - Target Audience: Young children, typically aged 2-11.\n",
        "   - Characteristics: Simple, colorful, and educational content designed to entertain and teach young children. Themes often include friendship, adventure, and basic moral lessons. Examples include \"Pokémon,\" \"Doraemon,\" and \"Anpanman.\"\n",
        "\n",
        "Understanding these demographics helps in identifying the style and content of the anime and how it may appeal to different audiences based on age and gender."
      ],
      "metadata": {
        "id": "QY3KsFro8_Iy"
      }
    },
    {
      "cell_type": "markdown",
      "source": [
        "The roles of a producer and a licensor in the context of media, such as film, television, and anime, are distinct but can sometimes overlap. Here’s a breakdown of their differences:\n",
        "\n",
        "### Producer\n",
        "\n",
        "1. **Role and Responsibilities**:\n",
        "   - A producer is primarily responsible for overseeing the creation, development, and production of a media project. This includes securing funding, hiring key personnel (directors, writers, cast), managing budgets, and ensuring the project stays on schedule.\n",
        "   - Producers are involved in the creative and logistical aspects of production, from the initial concept through to the final product.\n",
        "   - They often work closely with the director and other creative talents to shape the vision and direction of the project.\n",
        "\n",
        "2. **Involvement**:\n",
        "   - Producers are deeply involved in the day-to-day operations of making a film, TV show, or anime. They handle challenges that arise during production and make critical decisions that affect the outcome of the project.\n",
        "\n",
        "3. **Types of Producers**:\n",
        "   - There are various types of producers, such as executive producers, co-producers, line producers, and associate producers, each with specific roles and responsibilities within the production process.\n",
        "\n",
        "### Licensor\n",
        "\n",
        "1. **Role and Responsibilities**:\n",
        "   - A licensor is typically a company or entity that owns the rights to a particular intellectual property (IP) and grants permission to another party to use, distribute, or produce content based on that IP.\n",
        "   - This can include rights to distribute a film, TV show, or anime in different regions, produce merchandise, create adaptations, or use characters and settings in other media.\n",
        "\n",
        "2. **Involvement**:\n",
        "   - Licensors are primarily concerned with the legal and financial aspects of managing and monetizing their IP. They may not be directly involved in the production process but have a say in how their property is used.\n",
        "   - They ensure that their IP is used in a way that aligns with their brand and business objectives, often providing guidelines and approvals for how their IP is portrayed.\n",
        "\n",
        "3. **Examples**:\n",
        "   - A licensor might be a major studio that owns the rights to a film and licenses it to streaming platforms or international distributors.\n",
        "   - In anime, companies like Aniplex or Funimation may license the rights to distribute an anime series outside of Japan.\n",
        "\n",
        "### Key Differences\n",
        "\n",
        "- **Scope of Work**:\n",
        "  - Producers are hands-on with the creative and production processes.\n",
        "  - Licensors focus on the management and monetization of IP rights.\n",
        "\n",
        "- **Involvement in Production**:\n",
        "  - Producers are directly involved in making the content.\n",
        "  - Licensors may not be involved in the production but oversee how their IP is used and distributed.\n",
        "\n",
        "- **Decision-Making**:\n",
        "  - Producers make decisions that affect the production and creative direction of a project.\n",
        "  - Licensors make decisions regarding the use and licensing of their IP, ensuring it adheres to their standards and business strategies.\n",
        "\n",
        "In summary, producers are creators and managers of the content, while licensors are guardians and monetizers of the intellectual property rights associated with that content."
      ],
      "metadata": {
        "id": "YIfcKfFfk_8G"
      }
    },
    {
      "cell_type": "markdown",
      "source": [
        "## Find missing values"
      ],
      "metadata": {
        "id": "rlMNKkXmlUFx"
      }
    },
    {
      "cell_type": "code",
      "source": [
        "# Find the number and fraction of missing values for all columns\n",
        "missing_values = df.isna().sum()\n",
        "\n",
        "print(\"Number of missing values for each column:\")\n",
        "print(missing_values)\n"
      ],
      "metadata": {
        "colab": {
          "base_uri": "https://localhost:8080/"
        },
        "id": "9Q1MhBu3c1Fj",
        "outputId": "c4f40098-b6b1-49bb-e879-d837d3d888a0"
      },
      "execution_count": null,
      "outputs": [
        {
          "output_type": "stream",
          "name": "stdout",
          "text": [
            "Number of missing values for each column:\n",
            "Type                 3915\n",
            "Episodes                0\n",
            "Aired                   0\n",
            "Producers               0\n",
            "Studios                 0\n",
            "Source               1769\n",
            "Genres              14720\n",
            "Demographic         16100\n",
            "Duration                0\n",
            "Rating                355\n",
            "Score                8824\n",
            "Ranked               5448\n",
            "Popularity              0\n",
            "Members                 0\n",
            "Favorites               0\n",
            "staff                8203\n",
            "Duration_minutes        0\n",
            "Episodic                0\n",
            "Start_Aired          4621\n",
            "End_Aired           15991\n",
            "Valid_Format            0\n",
            "dtype: int64\n"
          ]
        }
      ]
    },
    {
      "cell_type": "code",
      "source": [
        "# Find the number and fraction of 'add some' in all columns\n",
        "add_some_values = df.apply(lambda x: x.str.contains('add some').sum() if x.dtype == \"object\" else 0)\n",
        "\n",
        "\n",
        "print(\"\\nNumber of 'add some' for each column:\")\n",
        "print(add_some_values)"
      ],
      "metadata": {
        "colab": {
          "base_uri": "https://localhost:8080/"
        },
        "id": "LKbooI69FHtP",
        "outputId": "ed827597-a64d-4e10-9a9d-465b38f4eead"
      },
      "execution_count": null,
      "outputs": [
        {
          "output_type": "stream",
          "name": "stdout",
          "text": [
            "\n",
            "Number of 'add some' for each column:\n",
            "Type                    0\n",
            "Episodes                0\n",
            "Aired                   0\n",
            "Producers           13770\n",
            "Studios             10813\n",
            "Source                  0\n",
            "Genres                  0\n",
            "Demographic             0\n",
            "Duration                0\n",
            "Rating                  0\n",
            "Score                   0\n",
            "Ranked                  0\n",
            "Popularity              0\n",
            "Members                 0\n",
            "Favorites               0\n",
            "staff                   0\n",
            "Duration_minutes        0\n",
            "Episodic                0\n",
            "Start_Aired             0\n",
            "End_Aired               0\n",
            "Valid_Format            0\n",
            "dtype: int64\n"
          ]
        }
      ]
    },
    {
      "cell_type": "code",
      "source": [
        "print(df.iloc[10504]['staff'])\n",
        "print(pd.isnull(df.iloc[10504]['staff']))\n",
        "print(df.iloc[10504]['staff'] == '')\n"
      ],
      "metadata": {
        "colab": {
          "base_uri": "https://localhost:8080/"
        },
        "id": "BqIAwtoGfiq5",
        "outputId": "e535616e-757d-4ee3-8894-eb8394286ae2"
      },
      "execution_count": null,
      "outputs": [
        {
          "output_type": "stream",
          "name": "stdout",
          "text": [
            "Fujiyama, Fusanobu\n",
            "False\n",
            "False\n"
          ]
        }
      ]
    },
    {
      "cell_type": "code",
      "source": [
        "df.replace('', np.nan, inplace=True)"
      ],
      "metadata": {
        "id": "phA6LF2pe6Wk"
      },
      "execution_count": 20,
      "outputs": []
    },
    {
      "cell_type": "code",
      "source": [
        "# Find the number and fraction of 'Unknown' in all columns\n",
        "add_some_values = df.apply(lambda x: x.str.contains('Unknown').sum() if x.dtype == \"object\" else 0)\n",
        "\n",
        "print(\"\\nNumber of 'Unknown' for each column:\")\n",
        "print(add_some_values)\n"
      ],
      "metadata": {
        "colab": {
          "base_uri": "https://localhost:8080/"
        },
        "id": "QXrlTZlJjsVm",
        "outputId": "e1cb9d9b-ee56-4a08-aae8-147b678dd523"
      },
      "execution_count": null,
      "outputs": [
        {
          "output_type": "stream",
          "name": "stdout",
          "text": [
            "\n",
            "Number of 'Unknown' for each column:\n",
            "Type                   0\n",
            "Episodes               0\n",
            "Aired                  0\n",
            "Producers              0\n",
            "Studios                0\n",
            "Source              2940\n",
            "Genres                 0\n",
            "Demographic            0\n",
            "Duration             321\n",
            "Rating                 0\n",
            "Score                  0\n",
            "Ranked                 0\n",
            "Popularity             0\n",
            "Members                0\n",
            "Favorites              0\n",
            "staff                  0\n",
            "Duration_minutes       0\n",
            "Episodic               0\n",
            "Start_Aired            0\n",
            "End_Aired              0\n",
            "Valid_Format           0\n",
            "dtype: int64\n"
          ]
        }
      ]
    },
    {
      "cell_type": "code",
      "source": [
        "# Find the number and fraction of 'Unknown' in all columns\n",
        "add_some_values = df.apply(lambda x: x.str.contains('\\?').sum() if x.dtype == \"object\" else 0)\n",
        "\n",
        "print(\"\\nNumber of '?' for each column:\")\n",
        "print(add_some_values)"
      ],
      "metadata": {
        "colab": {
          "base_uri": "https://localhost:8080/"
        },
        "id": "I4xzVn_0PaAY",
        "outputId": "3e41325d-c6d3-4a4c-c487-79faf66df03d"
      },
      "execution_count": null,
      "outputs": [
        {
          "output_type": "stream",
          "name": "stdout",
          "text": [
            "\n",
            "Number of '?' for each column:\n",
            "Type                   0\n",
            "Episodes               0\n",
            "Aired               1554\n",
            "Producers              0\n",
            "Studios                0\n",
            "Source                 0\n",
            "Genres                 0\n",
            "Demographic            0\n",
            "Duration               0\n",
            "Rating                 0\n",
            "Score                  0\n",
            "Ranked                 0\n",
            "Popularity             0\n",
            "Members                0\n",
            "Favorites              0\n",
            "staff                  2\n",
            "Duration_minutes       0\n",
            "Episodic               0\n",
            "Start_Aired            0\n",
            "End_Aired              0\n",
            "Valid_Format           0\n",
            "dtype: int64\n"
          ]
        }
      ]
    },
    {
      "cell_type": "code",
      "source": [
        "import numpy as np\n",
        "\n",
        "df.replace('Unknown', np.nan, inplace=True)\n",
        "df.replace('add some', np.nan, inplace=True)"
      ],
      "metadata": {
        "id": "SoyTDMX5lr3W"
      },
      "execution_count": 21,
      "outputs": []
    },
    {
      "cell_type": "code",
      "source": [
        "# Find the number and fraction of missing values for all columns\n",
        "missing_values = df.isna().sum()\n",
        "\n",
        "print(\"Number of missing values for each column:\")\n",
        "print(missing_values)\n"
      ],
      "metadata": {
        "colab": {
          "base_uri": "https://localhost:8080/"
        },
        "id": "9aUYqkTuob5y",
        "outputId": "b805a8f9-6391-48fe-ea17-cb89ceefc4d3"
      },
      "execution_count": 22,
      "outputs": [
        {
          "output_type": "stream",
          "name": "stdout",
          "text": [
            "Number of missing values for each column:\n",
            "Type                 3915\n",
            "Episodes                0\n",
            "Aired                   0\n",
            "Producers           13770\n",
            "Studios             10813\n",
            "Source               4709\n",
            "Genres              14720\n",
            "Demographic         16100\n",
            "Duration              321\n",
            "Rating                355\n",
            "Score                8824\n",
            "Ranked               5448\n",
            "Popularity              0\n",
            "Members                 0\n",
            "Favorites               0\n",
            "staff                8203\n",
            "Duration_minutes        0\n",
            "Episodic                0\n",
            "Start_Aired          4621\n",
            "End_Aired           15991\n",
            "Valid_Format            0\n",
            "dtype: int64\n"
          ]
        }
      ]
    },
    {
      "cell_type": "markdown",
      "source": [
        "## drop some columns or rows\n",
        "\n"
      ],
      "metadata": {
        "id": "A9hhaQLCHPOp"
      }
    },
    {
      "cell_type": "markdown",
      "source": [
        "we have extracted usfull data from some columns and save them as new columns so we drop the original ones\n",
        "\n",
        "also we drop the columns that are useless by itself"
      ],
      "metadata": {
        "id": "3b57xLSRILiv"
      }
    },
    {
      "cell_type": "code",
      "source": [
        "df.drop(['Aired', 'Valid_Format', 'Duration'], axis=1, inplace=True)"
      ],
      "metadata": {
        "id": "MXFvPxSQswlp"
      },
      "execution_count": 23,
      "outputs": []
    },
    {
      "cell_type": "markdown",
      "source": [
        "we drop the columns with alot of null values (with high percentages based on the number of rows)"
      ],
      "metadata": {
        "id": "4oKKdH4pIpfi"
      }
    },
    {
      "cell_type": "code",
      "source": [],
      "metadata": {
        "id": "JWlNVONxIAWj"
      },
      "execution_count": null,
      "outputs": []
    },
    {
      "cell_type": "markdown",
      "source": [
        "We are going to predict the Score in our data set so the rows are missing the Score values have to be removed.(we would not use label propagation because the size of our data set is large enough)"
      ],
      "metadata": {
        "id": "zLUCNY8nLjFX"
      }
    },
    {
      "cell_type": "code",
      "source": [
        "df.dropna(subset=['Score'], inplace=True)\n"
      ],
      "metadata": {
        "id": "shSIbMLCLhj2"
      },
      "execution_count": 25,
      "outputs": []
    },
    {
      "cell_type": "markdown",
      "source": [
        "we drop 'status' column because majarity of the data in this column is just one category so it does not differ between data points and does not provide any useful insights to the analysis"
      ],
      "metadata": {
        "id": "Z_9xbLZBI1Ik"
      }
    },
    {
      "cell_type": "code",
      "source": [
        "\n"
      ],
      "metadata": {
        "colab": {
          "base_uri": "https://localhost:8080/"
        },
        "id": "fKJM8ZeKl3h0",
        "outputId": "6faafcc1-7fa4-4126-f9c3-c3a06dea4994"
      },
      "execution_count": null,
      "outputs": [
        {
          "output_type": "stream",
          "name": "stdout",
          "text": [
            "Status\n",
            "Finished Airing     17014\n",
            "Currently Airing      183\n",
            "Name: count, dtype: int64\n"
          ]
        }
      ]
    },
    {
      "cell_type": "code",
      "source": [],
      "metadata": {
        "id": "snd9-vdZmQgI"
      },
      "execution_count": null,
      "outputs": []
    },
    {
      "cell_type": "markdown",
      "source": [
        "Also we must remove the columns that have invalid data such zero.\n",
        "\n",
        "For example zero number of Favorites does not make senece when the other number of Favorites are in order of thousands"
      ],
      "metadata": {
        "id": "YIT0UFjAJLNY"
      }
    },
    {
      "cell_type": "code",
      "source": [
        "# Find the number of zeros for all columns\n",
        "zero_values = (df == 0).sum()\n",
        "\n",
        "print(\"Number of zero values for each column:\")\n",
        "print(zero_values)"
      ],
      "metadata": {
        "colab": {
          "base_uri": "https://localhost:8080/"
        },
        "id": "YfxT3gHrt_T8",
        "outputId": "fb18c92c-47be-4999-99c6-393bb39c97ad"
      },
      "execution_count": 26,
      "outputs": [
        {
          "output_type": "stream",
          "name": "stdout",
          "text": [
            "Number of zero values for each column:\n",
            "Type                   0\n",
            "Episodes               0\n",
            "Producers              0\n",
            "Studios                0\n",
            "Source                 0\n",
            "Genres                 0\n",
            "Demographic            0\n",
            "Rating                 0\n",
            "Score                  0\n",
            "Ranked                 0\n",
            "Popularity             0\n",
            "Members                0\n",
            "Favorites           3560\n",
            "staff                  0\n",
            "Duration_minutes      11\n",
            "Episodic            8174\n",
            "Start_Aired            0\n",
            "End_Aired              0\n",
            "dtype: int64\n"
          ]
        }
      ]
    },
    {
      "cell_type": "code",
      "source": [
        "df = df.drop(columns=['Favorites'])"
      ],
      "metadata": {
        "id": "RpS0viTJwORf"
      },
      "execution_count": 27,
      "outputs": []
    },
    {
      "cell_type": "markdown",
      "source": [
        "The zero in Duration_minutes is when the Duration is null and since the number is rather samll according to the size of out data set we do not remove this important column"
      ],
      "metadata": {
        "id": "Nr_SY3Z2J1pt"
      }
    },
    {
      "cell_type": "code",
      "source": [
        "df = df[df['Duration_minutes'] != 0]"
      ],
      "metadata": {
        "id": "YilTSaEOelK4"
      },
      "execution_count": 28,
      "outputs": []
    },
    {
      "cell_type": "code",
      "source": [
        "df.info()"
      ],
      "metadata": {
        "colab": {
          "base_uri": "https://localhost:8080/"
        },
        "id": "pWW6MuEluIgb",
        "outputId": "08988299-792b-4192-ee9b-7848ae9cc763"
      },
      "execution_count": null,
      "outputs": [
        {
          "output_type": "stream",
          "name": "stdout",
          "text": [
            "<class 'pandas.core.frame.DataFrame'>\n",
            "Index: 17197 entries, 0 to 26439\n",
            "Data columns (total 18 columns):\n",
            " #   Column            Non-Null Count  Dtype         \n",
            "---  ------            --------------  -----         \n",
            " 0   title             17197 non-null  object        \n",
            " 1   Type              14843 non-null  object        \n",
            " 2   Episodes          17084 non-null  object        \n",
            " 3   Producers         10354 non-null  object        \n",
            " 4   Studios           13247 non-null  object        \n",
            " 5   Source            14634 non-null  object        \n",
            " 6   Genres            9205 non-null   object        \n",
            " 7   Demographic       4681 non-null   object        \n",
            " 8   Rating            17109 non-null  object        \n",
            " 9   Score             17197 non-null  float64       \n",
            " 10  Ranked            13347 non-null  float64       \n",
            " 11  Popularity        17197 non-null  float64       \n",
            " 12  Members           17197 non-null  float64       \n",
            " 13  staff             15016 non-null  object        \n",
            " 14  Duration_minutes  17197 non-null  float64       \n",
            " 15  Episodic          17197 non-null  int64         \n",
            " 16  Start_Aired       16136 non-null  datetime64[ns]\n",
            " 17  End_Aired         8235 non-null   datetime64[ns]\n",
            "dtypes: datetime64[ns](2), float64(5), int64(1), object(10)\n",
            "memory usage: 2.5+ MB\n"
          ]
        }
      ]
    },
    {
      "cell_type": "markdown",
      "source": [
        "We also have to remove some rows that have null values in more than 9 columns"
      ],
      "metadata": {
        "id": "NKd1-lPUMjuc"
      }
    },
    {
      "cell_type": "code",
      "source": [
        "# Assuming df is your DataFrame\n",
        "num_columns = df.shape[1]\n",
        "\n",
        "print(f\"The DataFrame has {num_columns} columns.\")\n",
        "\n",
        "# Count the number of nulls in each row\n",
        "null_counts = df.isnull().sum(axis=1).value_counts()\n",
        "\n",
        "# Print the result\n",
        "for null_count, row_count in null_counts.items():\n",
        "    print(f\"{null_count} null = {row_count} rows\")\n"
      ],
      "metadata": {
        "colab": {
          "base_uri": "https://localhost:8080/"
        },
        "id": "sH05kJiwupKG",
        "outputId": "846c45e3-d282-4bd2-abe9-ea76d4d72643"
      },
      "execution_count": null,
      "outputs": [
        {
          "output_type": "stream",
          "name": "stdout",
          "text": [
            "The DataFrame has 18 columns.\n",
            "1 null = 3417 rows\n",
            "2 null = 3357 rows\n",
            "3 null = 2824 rows\n",
            "4 null = 2091 rows\n",
            "5 null = 1605 rows\n",
            "6 null = 1390 rows\n",
            "0 null = 1256 rows\n",
            "7 null = 955 rows\n",
            "8 null = 265 rows\n",
            "9 null = 34 rows\n",
            "10 null = 3 rows\n"
          ]
        }
      ]
    },
    {
      "cell_type": "code",
      "source": [
        "# Assuming df is your DataFrame\n",
        "df = df.dropna(thresh=df.shape[1]-8)\n"
      ],
      "metadata": {
        "id": "BjiDMxYew00P"
      },
      "execution_count": null,
      "outputs": []
    },
    {
      "cell_type": "code",
      "source": [
        "def get_season(month):\n",
        "    if month in [12, 1, 2]:\n",
        "        return 'Winter'\n",
        "    elif month in [3, 4, 5]:\n",
        "        return 'Spring'\n",
        "    elif month in [6, 7, 8]:\n",
        "        return 'Summer'\n",
        "    elif month in [9, 10, 11]:\n",
        "        return 'Fall'\n",
        "\n",
        "# Extract season from 'Aired_Start'\n",
        "df['Aired_Season'] = df['Start_Aired'].dt.month.apply(get_season)"
      ],
      "metadata": {
        "id": "90k1uRnXIjKO"
      },
      "execution_count": 29,
      "outputs": []
    },
    {
      "cell_type": "code",
      "source": [
        "df['Aired_Day_of_Week'] = df['Start_Aired'].dt.day_name()"
      ],
      "metadata": {
        "id": "db6HbKwrIlJr"
      },
      "execution_count": 30,
      "outputs": []
    },
    {
      "cell_type": "code",
      "source": [
        "df['Aired_Month'] = df['Start_Aired'].dt.month_name()\n"
      ],
      "metadata": {
        "id": "XaILDx0mIp8s"
      },
      "execution_count": 31,
      "outputs": []
    },
    {
      "cell_type": "code",
      "source": [
        "folder_path = '/content/drive/My Drive/cleaned_1_anime (3).csv'\n",
        "df_cleaned = pd.read_csv(folder_path)\n",
        "df['Aired_Year'] = df_cleaned['Aired_Year']"
      ],
      "metadata": {
        "id": "UK5IlK7hI8_m"
      },
      "execution_count": 32,
      "outputs": []
    },
    {
      "cell_type": "code",
      "source": [
        "df['Aired_Year'] = pd.to_numeric(df['Aired_Year'], errors='coerce')"
      ],
      "metadata": {
        "id": "3Qef1V5SJKAa"
      },
      "execution_count": 33,
      "outputs": []
    },
    {
      "cell_type": "code",
      "source": [
        "df['End_Aired'] = df['End_Aired'].replace('?', np.nan)\n",
        "df['Start_Aired'] = df['Start_Aired'].replace('?', np.nan)"
      ],
      "metadata": {
        "id": "85NZHo0AK1Yx"
      },
      "execution_count": 34,
      "outputs": []
    },
    {
      "cell_type": "markdown",
      "source": [
        "After all of the droping the rows, we must reset the index to match the number of updated rows"
      ],
      "metadata": {
        "id": "EPW16gDvMx53"
      }
    },
    {
      "cell_type": "code",
      "source": [
        "# Assuming df is your DataFrame\n",
        "df = df.reset_index(drop=True)\n"
      ],
      "metadata": {
        "id": "ws4ycvwCxQY-"
      },
      "execution_count": 35,
      "outputs": []
    },
    {
      "cell_type": "code",
      "source": [
        "df.info()"
      ],
      "metadata": {
        "colab": {
          "base_uri": "https://localhost:8080/"
        },
        "id": "P1tAs7JONWZK",
        "outputId": "3b9b5ae5-9177-4a0a-a813-b90efb732fca"
      },
      "execution_count": null,
      "outputs": [
        {
          "output_type": "stream",
          "name": "stdout",
          "text": [
            "<class 'pandas.core.frame.DataFrame'>\n",
            "RangeIndex: 17037 entries, 0 to 17036\n",
            "Data columns (total 21 columns):\n",
            " #   Column             Non-Null Count  Dtype         \n",
            "---  ------             --------------  -----         \n",
            " 0   Type               14728 non-null  object        \n",
            " 1   Episodes           17037 non-null  float64       \n",
            " 2   Producers          10281 non-null  object        \n",
            " 3   Studios            13142 non-null  object        \n",
            " 4   Source             14525 non-null  object        \n",
            " 5   Genres             9162 non-null   object        \n",
            " 6   Demographic        4657 non-null   object        \n",
            " 7   Rating             16951 non-null  object        \n",
            " 8   Score              17037 non-null  float64       \n",
            " 9   Ranked             13277 non-null  float64       \n",
            " 10  Popularity         17037 non-null  float64       \n",
            " 11  Members            17037 non-null  float64       \n",
            " 12  staff              14909 non-null  object        \n",
            " 13  Duration_minutes   17037 non-null  float64       \n",
            " 14  Episodic           17037 non-null  int64         \n",
            " 15  Start_Aired        16001 non-null  datetime64[ns]\n",
            " 16  End_Aired          8234 non-null   datetime64[ns]\n",
            " 17  Aired_Season       16001 non-null  object        \n",
            " 18  Aired_Day_of_Week  16001 non-null  object        \n",
            " 19  Aired_Month        16001 non-null  object        \n",
            " 20  Aired_Year         15098 non-null  float64       \n",
            "dtypes: datetime64[ns](2), float64(7), int64(1), object(11)\n",
            "memory usage: 2.7+ MB\n"
          ]
        }
      ]
    },
    {
      "cell_type": "markdown",
      "source": [
        "## Handel and fill the missing values"
      ],
      "metadata": {
        "id": "c8fDz9VfNGYs"
      }
    },
    {
      "cell_type": "code",
      "source": [
        "df.isna().sum()"
      ],
      "metadata": {
        "colab": {
          "base_uri": "https://localhost:8080/"
        },
        "id": "yV9tYPXWNLUg",
        "outputId": "0f9b5ca9-50cd-47ec-b45a-87733dbe59ca"
      },
      "execution_count": null,
      "outputs": [
        {
          "output_type": "execute_result",
          "data": {
            "text/plain": [
              "title                   0\n",
              "Type                 2319\n",
              "Episodes              112\n",
              "Producers            6806\n",
              "Studios              3913\n",
              "Source               2537\n",
              "Genres               7956\n",
              "Demographic         12479\n",
              "Rating                 87\n",
              "Score                   0\n",
              "Ranked               3814\n",
              "Popularity              0\n",
              "Members                 0\n",
              "staff                2150\n",
              "Duration_minutes        0\n",
              "Episodic                0\n",
              "Start_Aired          1039\n",
              "End_Aired            8925\n",
              "dtype: int64"
            ]
          },
          "metadata": {},
          "execution_count": 358
        }
      ]
    },
    {
      "cell_type": "code",
      "source": [
        "df[df['Genres'].isna()]"
      ],
      "metadata": {
        "colab": {
          "base_uri": "https://localhost:8080/",
          "height": 999
        },
        "id": "pbFnN7GcvOnT",
        "outputId": "8c17a88a-fc14-4972-d4a5-6ff9147cec24"
      },
      "execution_count": null,
      "outputs": [
        {
          "output_type": "execute_result",
          "data": {
            "text/plain": [
              "                                                   title Type Episodes  \\\n",
              "18                            3-gatsu_no_Lion_2nd_Season   TV       22   \n",
              "29                                    Kingdom_3rd_Season   TV       26   \n",
              "32                                       Bocchi_the_Rock   TV       12   \n",
              "36     Haikyuu_Karasuno_Koukou_vs_Shiratorizawa_Gakue...   TV       10   \n",
              "40                                        Hajime_no_Ippo   TV       75   \n",
              "...                                                  ...  ...      ...   \n",
              "17153                                              Chu^2  OVA        1   \n",
              "17154                     Sei_Michaela_Gakuen_Hyouryuuki  OVA        2   \n",
              "17155                                        Under_World  OVA        1   \n",
              "17156                              GTR_G-cup_Teacher_Rei  OVA        4   \n",
              "17159                        Sukeban_Shoukai_Cutie_Lemon  OVA        3   \n",
              "\n",
              "                                               Producers  \\\n",
              "18     Aniplex, Dentsu, NHK, Hakusensha, Asmik Ace, \"...   \n",
              "29                                              Shueisha   \n",
              "32                                    Aniplex, Houbunsha   \n",
              "36     Dentsu, Mainichi Broadcasting System, Movic, S...   \n",
              "40                                                   VAP   \n",
              "...                                                  ...   \n",
              "17153                                 BEAM Entertainment   \n",
              "17154                                                NaN   \n",
              "17155                                          Five Ways   \n",
              "17156                                  Allure, Mediabank   \n",
              "17159                                                NaN   \n",
              "\n",
              "                        Studios        Source Genres Demographic  \\\n",
              "18                        Shaft         Manga    NaN      Seinen   \n",
              "29     Pierrot, Studio Signpost         Manga    NaN      Seinen   \n",
              "32                  CloverWorks  4-koma manga    NaN         NaN   \n",
              "36               Production I.G         Manga    NaN     Shounen   \n",
              "40                     Madhouse         Manga    NaN     Shounen   \n",
              "...                         ...           ...    ...         ...   \n",
              "17153                Studio B&M           NaN    NaN         NaN   \n",
              "17154                 Visual 80           NaN    NaN         NaN   \n",
              "17155                       NaN           NaN    NaN         NaN   \n",
              "17156                       NaN           NaN    NaN         NaN   \n",
              "17159                       NaN           NaN    NaN         NaN   \n",
              "\n",
              "                               Rating  Score  Ranked  Popularity    Members  \\\n",
              "18          PG-13 - Teens 13 or older   8.92    19.0       567.0   401854.0   \n",
              "29     R - 17+ (violence & profanity)   8.82    30.0      2032.0   103136.0   \n",
              "32          PG-13 - Teens 13 or older   8.79    33.0       386.0   565272.0   \n",
              "36          PG-13 - Teens 13 or older   8.78    37.0       117.0  1200809.0   \n",
              "40          PG-13 - Teens 13 or older   8.77    41.0       368.0   592482.0   \n",
              "...                               ...    ...     ...         ...        ...   \n",
              "17153                     Rx - Hentai   4.91     NaN     11698.0     1806.0   \n",
              "17154                R+ - Mild Nudity   4.91     NaN     12000.0     1608.0   \n",
              "17155                     Rx - Hentai   4.91     NaN     14387.0      787.0   \n",
              "17156                     Rx - Hentai   4.81     NaN     12495.0     1376.0   \n",
              "17159                     Rx - Hentai   4.88     NaN     14056.0      872.0   \n",
              "\n",
              "                                                   staff  Duration_minutes  \\\n",
              "18     Ooshima, Miku, Oota, Kyouko, Shinbou, Akiyuki,...              25.0   \n",
              "29     Cook, Justin, Herek, Samantha, Imaizumi, Kenic...              25.0   \n",
              "32     Umehara, Shouta, Kobayashi, Hiroyuki, Saitou, ...              23.0   \n",
              "36     Maeda, Toshihiro, Morihiro, Fumi, Matsushita, ...              24.0   \n",
              "40     Maruyama, Masao, Tamura, Manabu, Nishimura, Sa...              23.0   \n",
              "...                                                  ...               ...   \n",
              "17153                                     Toyooka, Kaoru              24.0   \n",
              "17154  van Beethoven, Ludwig, Asamiya, Kia, Tomizawa,...              37.0   \n",
              "17155                                                NaN              64.0   \n",
              "17156                                                NaN              30.0   \n",
              "17159                                                NaN              24.0   \n",
              "\n",
              "       Episodic Start_Aired  End_Aired  \n",
              "18            1  2017-10-14 2018-03-31  \n",
              "29            1  2020-04-06 2021-10-17  \n",
              "32            1  2022-10-09 2022-12-25  \n",
              "36            1  2016-10-08 2016-12-10  \n",
              "40            1  2000-10-04 2002-03-27  \n",
              "...         ...         ...        ...  \n",
              "17153         0  1997-10-25        NaT  \n",
              "17154         1  1990-06-22 1991-07-25  \n",
              "17155         0  2000-11-18        NaT  \n",
              "17156         1  2000-10-13 2004-06-25  \n",
              "17159         1  1984-12-22        NaT  \n",
              "\n",
              "[7956 rows x 18 columns]"
            ],
            "text/html": [
              "\n",
              "  <div id=\"df-a84479fa-5c3d-4d34-b136-7f43b165bda6\" class=\"colab-df-container\">\n",
              "    <div>\n",
              "<style scoped>\n",
              "    .dataframe tbody tr th:only-of-type {\n",
              "        vertical-align: middle;\n",
              "    }\n",
              "\n",
              "    .dataframe tbody tr th {\n",
              "        vertical-align: top;\n",
              "    }\n",
              "\n",
              "    .dataframe thead th {\n",
              "        text-align: right;\n",
              "    }\n",
              "</style>\n",
              "<table border=\"1\" class=\"dataframe\">\n",
              "  <thead>\n",
              "    <tr style=\"text-align: right;\">\n",
              "      <th></th>\n",
              "      <th>title</th>\n",
              "      <th>Type</th>\n",
              "      <th>Episodes</th>\n",
              "      <th>Producers</th>\n",
              "      <th>Studios</th>\n",
              "      <th>Source</th>\n",
              "      <th>Genres</th>\n",
              "      <th>Demographic</th>\n",
              "      <th>Rating</th>\n",
              "      <th>Score</th>\n",
              "      <th>Ranked</th>\n",
              "      <th>Popularity</th>\n",
              "      <th>Members</th>\n",
              "      <th>staff</th>\n",
              "      <th>Duration_minutes</th>\n",
              "      <th>Episodic</th>\n",
              "      <th>Start_Aired</th>\n",
              "      <th>End_Aired</th>\n",
              "    </tr>\n",
              "  </thead>\n",
              "  <tbody>\n",
              "    <tr>\n",
              "      <th>18</th>\n",
              "      <td>3-gatsu_no_Lion_2nd_Season</td>\n",
              "      <td>TV</td>\n",
              "      <td>22</td>\n",
              "      <td>Aniplex, Dentsu, NHK, Hakusensha, Asmik Ace, \"...</td>\n",
              "      <td>Shaft</td>\n",
              "      <td>Manga</td>\n",
              "      <td>NaN</td>\n",
              "      <td>Seinen</td>\n",
              "      <td>PG-13 - Teens 13 or older</td>\n",
              "      <td>8.92</td>\n",
              "      <td>19.0</td>\n",
              "      <td>567.0</td>\n",
              "      <td>401854.0</td>\n",
              "      <td>Ooshima, Miku, Oota, Kyouko, Shinbou, Akiyuki,...</td>\n",
              "      <td>25.0</td>\n",
              "      <td>1</td>\n",
              "      <td>2017-10-14</td>\n",
              "      <td>2018-03-31</td>\n",
              "    </tr>\n",
              "    <tr>\n",
              "      <th>29</th>\n",
              "      <td>Kingdom_3rd_Season</td>\n",
              "      <td>TV</td>\n",
              "      <td>26</td>\n",
              "      <td>Shueisha</td>\n",
              "      <td>Pierrot, Studio Signpost</td>\n",
              "      <td>Manga</td>\n",
              "      <td>NaN</td>\n",
              "      <td>Seinen</td>\n",
              "      <td>R - 17+ (violence &amp; profanity)</td>\n",
              "      <td>8.82</td>\n",
              "      <td>30.0</td>\n",
              "      <td>2032.0</td>\n",
              "      <td>103136.0</td>\n",
              "      <td>Cook, Justin, Herek, Samantha, Imaizumi, Kenic...</td>\n",
              "      <td>25.0</td>\n",
              "      <td>1</td>\n",
              "      <td>2020-04-06</td>\n",
              "      <td>2021-10-17</td>\n",
              "    </tr>\n",
              "    <tr>\n",
              "      <th>32</th>\n",
              "      <td>Bocchi_the_Rock</td>\n",
              "      <td>TV</td>\n",
              "      <td>12</td>\n",
              "      <td>Aniplex, Houbunsha</td>\n",
              "      <td>CloverWorks</td>\n",
              "      <td>4-koma manga</td>\n",
              "      <td>NaN</td>\n",
              "      <td>NaN</td>\n",
              "      <td>PG-13 - Teens 13 or older</td>\n",
              "      <td>8.79</td>\n",
              "      <td>33.0</td>\n",
              "      <td>386.0</td>\n",
              "      <td>565272.0</td>\n",
              "      <td>Umehara, Shouta, Kobayashi, Hiroyuki, Saitou, ...</td>\n",
              "      <td>23.0</td>\n",
              "      <td>1</td>\n",
              "      <td>2022-10-09</td>\n",
              "      <td>2022-12-25</td>\n",
              "    </tr>\n",
              "    <tr>\n",
              "      <th>36</th>\n",
              "      <td>Haikyuu_Karasuno_Koukou_vs_Shiratorizawa_Gakue...</td>\n",
              "      <td>TV</td>\n",
              "      <td>10</td>\n",
              "      <td>Dentsu, Mainichi Broadcasting System, Movic, S...</td>\n",
              "      <td>Production I.G</td>\n",
              "      <td>Manga</td>\n",
              "      <td>NaN</td>\n",
              "      <td>Shounen</td>\n",
              "      <td>PG-13 - Teens 13 or older</td>\n",
              "      <td>8.78</td>\n",
              "      <td>37.0</td>\n",
              "      <td>117.0</td>\n",
              "      <td>1200809.0</td>\n",
              "      <td>Maeda, Toshihiro, Morihiro, Fumi, Matsushita, ...</td>\n",
              "      <td>24.0</td>\n",
              "      <td>1</td>\n",
              "      <td>2016-10-08</td>\n",
              "      <td>2016-12-10</td>\n",
              "    </tr>\n",
              "    <tr>\n",
              "      <th>40</th>\n",
              "      <td>Hajime_no_Ippo</td>\n",
              "      <td>TV</td>\n",
              "      <td>75</td>\n",
              "      <td>VAP</td>\n",
              "      <td>Madhouse</td>\n",
              "      <td>Manga</td>\n",
              "      <td>NaN</td>\n",
              "      <td>Shounen</td>\n",
              "      <td>PG-13 - Teens 13 or older</td>\n",
              "      <td>8.77</td>\n",
              "      <td>41.0</td>\n",
              "      <td>368.0</td>\n",
              "      <td>592482.0</td>\n",
              "      <td>Maruyama, Masao, Tamura, Manabu, Nishimura, Sa...</td>\n",
              "      <td>23.0</td>\n",
              "      <td>1</td>\n",
              "      <td>2000-10-04</td>\n",
              "      <td>2002-03-27</td>\n",
              "    </tr>\n",
              "    <tr>\n",
              "      <th>...</th>\n",
              "      <td>...</td>\n",
              "      <td>...</td>\n",
              "      <td>...</td>\n",
              "      <td>...</td>\n",
              "      <td>...</td>\n",
              "      <td>...</td>\n",
              "      <td>...</td>\n",
              "      <td>...</td>\n",
              "      <td>...</td>\n",
              "      <td>...</td>\n",
              "      <td>...</td>\n",
              "      <td>...</td>\n",
              "      <td>...</td>\n",
              "      <td>...</td>\n",
              "      <td>...</td>\n",
              "      <td>...</td>\n",
              "      <td>...</td>\n",
              "      <td>...</td>\n",
              "    </tr>\n",
              "    <tr>\n",
              "      <th>17153</th>\n",
              "      <td>Chu^2</td>\n",
              "      <td>OVA</td>\n",
              "      <td>1</td>\n",
              "      <td>BEAM Entertainment</td>\n",
              "      <td>Studio B&amp;M</td>\n",
              "      <td>NaN</td>\n",
              "      <td>NaN</td>\n",
              "      <td>NaN</td>\n",
              "      <td>Rx - Hentai</td>\n",
              "      <td>4.91</td>\n",
              "      <td>NaN</td>\n",
              "      <td>11698.0</td>\n",
              "      <td>1806.0</td>\n",
              "      <td>Toyooka, Kaoru</td>\n",
              "      <td>24.0</td>\n",
              "      <td>0</td>\n",
              "      <td>1997-10-25</td>\n",
              "      <td>NaT</td>\n",
              "    </tr>\n",
              "    <tr>\n",
              "      <th>17154</th>\n",
              "      <td>Sei_Michaela_Gakuen_Hyouryuuki</td>\n",
              "      <td>OVA</td>\n",
              "      <td>2</td>\n",
              "      <td>NaN</td>\n",
              "      <td>Visual 80</td>\n",
              "      <td>NaN</td>\n",
              "      <td>NaN</td>\n",
              "      <td>NaN</td>\n",
              "      <td>R+ - Mild Nudity</td>\n",
              "      <td>4.91</td>\n",
              "      <td>NaN</td>\n",
              "      <td>12000.0</td>\n",
              "      <td>1608.0</td>\n",
              "      <td>van Beethoven, Ludwig, Asamiya, Kia, Tomizawa,...</td>\n",
              "      <td>37.0</td>\n",
              "      <td>1</td>\n",
              "      <td>1990-06-22</td>\n",
              "      <td>1991-07-25</td>\n",
              "    </tr>\n",
              "    <tr>\n",
              "      <th>17155</th>\n",
              "      <td>Under_World</td>\n",
              "      <td>OVA</td>\n",
              "      <td>1</td>\n",
              "      <td>Five Ways</td>\n",
              "      <td>NaN</td>\n",
              "      <td>NaN</td>\n",
              "      <td>NaN</td>\n",
              "      <td>NaN</td>\n",
              "      <td>Rx - Hentai</td>\n",
              "      <td>4.91</td>\n",
              "      <td>NaN</td>\n",
              "      <td>14387.0</td>\n",
              "      <td>787.0</td>\n",
              "      <td>NaN</td>\n",
              "      <td>64.0</td>\n",
              "      <td>0</td>\n",
              "      <td>2000-11-18</td>\n",
              "      <td>NaT</td>\n",
              "    </tr>\n",
              "    <tr>\n",
              "      <th>17156</th>\n",
              "      <td>GTR_G-cup_Teacher_Rei</td>\n",
              "      <td>OVA</td>\n",
              "      <td>4</td>\n",
              "      <td>Allure, Mediabank</td>\n",
              "      <td>NaN</td>\n",
              "      <td>NaN</td>\n",
              "      <td>NaN</td>\n",
              "      <td>NaN</td>\n",
              "      <td>Rx - Hentai</td>\n",
              "      <td>4.81</td>\n",
              "      <td>NaN</td>\n",
              "      <td>12495.0</td>\n",
              "      <td>1376.0</td>\n",
              "      <td>NaN</td>\n",
              "      <td>30.0</td>\n",
              "      <td>1</td>\n",
              "      <td>2000-10-13</td>\n",
              "      <td>2004-06-25</td>\n",
              "    </tr>\n",
              "    <tr>\n",
              "      <th>17159</th>\n",
              "      <td>Sukeban_Shoukai_Cutie_Lemon</td>\n",
              "      <td>OVA</td>\n",
              "      <td>3</td>\n",
              "      <td>NaN</td>\n",
              "      <td>NaN</td>\n",
              "      <td>NaN</td>\n",
              "      <td>NaN</td>\n",
              "      <td>NaN</td>\n",
              "      <td>Rx - Hentai</td>\n",
              "      <td>4.88</td>\n",
              "      <td>NaN</td>\n",
              "      <td>14056.0</td>\n",
              "      <td>872.0</td>\n",
              "      <td>NaN</td>\n",
              "      <td>24.0</td>\n",
              "      <td>1</td>\n",
              "      <td>1984-12-22</td>\n",
              "      <td>NaT</td>\n",
              "    </tr>\n",
              "  </tbody>\n",
              "</table>\n",
              "<p>7956 rows × 18 columns</p>\n",
              "</div>\n",
              "    <div class=\"colab-df-buttons\">\n",
              "\n",
              "  <div class=\"colab-df-container\">\n",
              "    <button class=\"colab-df-convert\" onclick=\"convertToInteractive('df-a84479fa-5c3d-4d34-b136-7f43b165bda6')\"\n",
              "            title=\"Convert this dataframe to an interactive table.\"\n",
              "            style=\"display:none;\">\n",
              "\n",
              "  <svg xmlns=\"http://www.w3.org/2000/svg\" height=\"24px\" viewBox=\"0 -960 960 960\">\n",
              "    <path d=\"M120-120v-720h720v720H120Zm60-500h600v-160H180v160Zm220 220h160v-160H400v160Zm0 220h160v-160H400v160ZM180-400h160v-160H180v160Zm440 0h160v-160H620v160ZM180-180h160v-160H180v160Zm440 0h160v-160H620v160Z\"/>\n",
              "  </svg>\n",
              "    </button>\n",
              "\n",
              "  <style>\n",
              "    .colab-df-container {\n",
              "      display:flex;\n",
              "      gap: 12px;\n",
              "    }\n",
              "\n",
              "    .colab-df-convert {\n",
              "      background-color: #E8F0FE;\n",
              "      border: none;\n",
              "      border-radius: 50%;\n",
              "      cursor: pointer;\n",
              "      display: none;\n",
              "      fill: #1967D2;\n",
              "      height: 32px;\n",
              "      padding: 0 0 0 0;\n",
              "      width: 32px;\n",
              "    }\n",
              "\n",
              "    .colab-df-convert:hover {\n",
              "      background-color: #E2EBFA;\n",
              "      box-shadow: 0px 1px 2px rgba(60, 64, 67, 0.3), 0px 1px 3px 1px rgba(60, 64, 67, 0.15);\n",
              "      fill: #174EA6;\n",
              "    }\n",
              "\n",
              "    .colab-df-buttons div {\n",
              "      margin-bottom: 4px;\n",
              "    }\n",
              "\n",
              "    [theme=dark] .colab-df-convert {\n",
              "      background-color: #3B4455;\n",
              "      fill: #D2E3FC;\n",
              "    }\n",
              "\n",
              "    [theme=dark] .colab-df-convert:hover {\n",
              "      background-color: #434B5C;\n",
              "      box-shadow: 0px 1px 3px 1px rgba(0, 0, 0, 0.15);\n",
              "      filter: drop-shadow(0px 1px 2px rgba(0, 0, 0, 0.3));\n",
              "      fill: #FFFFFF;\n",
              "    }\n",
              "  </style>\n",
              "\n",
              "    <script>\n",
              "      const buttonEl =\n",
              "        document.querySelector('#df-a84479fa-5c3d-4d34-b136-7f43b165bda6 button.colab-df-convert');\n",
              "      buttonEl.style.display =\n",
              "        google.colab.kernel.accessAllowed ? 'block' : 'none';\n",
              "\n",
              "      async function convertToInteractive(key) {\n",
              "        const element = document.querySelector('#df-a84479fa-5c3d-4d34-b136-7f43b165bda6');\n",
              "        const dataTable =\n",
              "          await google.colab.kernel.invokeFunction('convertToInteractive',\n",
              "                                                    [key], {});\n",
              "        if (!dataTable) return;\n",
              "\n",
              "        const docLinkHtml = 'Like what you see? Visit the ' +\n",
              "          '<a target=\"_blank\" href=https://colab.research.google.com/notebooks/data_table.ipynb>data table notebook</a>'\n",
              "          + ' to learn more about interactive tables.';\n",
              "        element.innerHTML = '';\n",
              "        dataTable['output_type'] = 'display_data';\n",
              "        await google.colab.output.renderOutput(dataTable, element);\n",
              "        const docLink = document.createElement('div');\n",
              "        docLink.innerHTML = docLinkHtml;\n",
              "        element.appendChild(docLink);\n",
              "      }\n",
              "    </script>\n",
              "  </div>\n",
              "\n",
              "\n",
              "<div id=\"df-e11a43d2-862b-4e19-a86b-30e9e1cfc8f7\">\n",
              "  <button class=\"colab-df-quickchart\" onclick=\"quickchart('df-e11a43d2-862b-4e19-a86b-30e9e1cfc8f7')\"\n",
              "            title=\"Suggest charts\"\n",
              "            style=\"display:none;\">\n",
              "\n",
              "<svg xmlns=\"http://www.w3.org/2000/svg\" height=\"24px\"viewBox=\"0 0 24 24\"\n",
              "     width=\"24px\">\n",
              "    <g>\n",
              "        <path d=\"M19 3H5c-1.1 0-2 .9-2 2v14c0 1.1.9 2 2 2h14c1.1 0 2-.9 2-2V5c0-1.1-.9-2-2-2zM9 17H7v-7h2v7zm4 0h-2V7h2v10zm4 0h-2v-4h2v4z\"/>\n",
              "    </g>\n",
              "</svg>\n",
              "  </button>\n",
              "\n",
              "<style>\n",
              "  .colab-df-quickchart {\n",
              "      --bg-color: #E8F0FE;\n",
              "      --fill-color: #1967D2;\n",
              "      --hover-bg-color: #E2EBFA;\n",
              "      --hover-fill-color: #174EA6;\n",
              "      --disabled-fill-color: #AAA;\n",
              "      --disabled-bg-color: #DDD;\n",
              "  }\n",
              "\n",
              "  [theme=dark] .colab-df-quickchart {\n",
              "      --bg-color: #3B4455;\n",
              "      --fill-color: #D2E3FC;\n",
              "      --hover-bg-color: #434B5C;\n",
              "      --hover-fill-color: #FFFFFF;\n",
              "      --disabled-bg-color: #3B4455;\n",
              "      --disabled-fill-color: #666;\n",
              "  }\n",
              "\n",
              "  .colab-df-quickchart {\n",
              "    background-color: var(--bg-color);\n",
              "    border: none;\n",
              "    border-radius: 50%;\n",
              "    cursor: pointer;\n",
              "    display: none;\n",
              "    fill: var(--fill-color);\n",
              "    height: 32px;\n",
              "    padding: 0;\n",
              "    width: 32px;\n",
              "  }\n",
              "\n",
              "  .colab-df-quickchart:hover {\n",
              "    background-color: var(--hover-bg-color);\n",
              "    box-shadow: 0 1px 2px rgba(60, 64, 67, 0.3), 0 1px 3px 1px rgba(60, 64, 67, 0.15);\n",
              "    fill: var(--button-hover-fill-color);\n",
              "  }\n",
              "\n",
              "  .colab-df-quickchart-complete:disabled,\n",
              "  .colab-df-quickchart-complete:disabled:hover {\n",
              "    background-color: var(--disabled-bg-color);\n",
              "    fill: var(--disabled-fill-color);\n",
              "    box-shadow: none;\n",
              "  }\n",
              "\n",
              "  .colab-df-spinner {\n",
              "    border: 2px solid var(--fill-color);\n",
              "    border-color: transparent;\n",
              "    border-bottom-color: var(--fill-color);\n",
              "    animation:\n",
              "      spin 1s steps(1) infinite;\n",
              "  }\n",
              "\n",
              "  @keyframes spin {\n",
              "    0% {\n",
              "      border-color: transparent;\n",
              "      border-bottom-color: var(--fill-color);\n",
              "      border-left-color: var(--fill-color);\n",
              "    }\n",
              "    20% {\n",
              "      border-color: transparent;\n",
              "      border-left-color: var(--fill-color);\n",
              "      border-top-color: var(--fill-color);\n",
              "    }\n",
              "    30% {\n",
              "      border-color: transparent;\n",
              "      border-left-color: var(--fill-color);\n",
              "      border-top-color: var(--fill-color);\n",
              "      border-right-color: var(--fill-color);\n",
              "    }\n",
              "    40% {\n",
              "      border-color: transparent;\n",
              "      border-right-color: var(--fill-color);\n",
              "      border-top-color: var(--fill-color);\n",
              "    }\n",
              "    60% {\n",
              "      border-color: transparent;\n",
              "      border-right-color: var(--fill-color);\n",
              "    }\n",
              "    80% {\n",
              "      border-color: transparent;\n",
              "      border-right-color: var(--fill-color);\n",
              "      border-bottom-color: var(--fill-color);\n",
              "    }\n",
              "    90% {\n",
              "      border-color: transparent;\n",
              "      border-bottom-color: var(--fill-color);\n",
              "    }\n",
              "  }\n",
              "</style>\n",
              "\n",
              "  <script>\n",
              "    async function quickchart(key) {\n",
              "      const quickchartButtonEl =\n",
              "        document.querySelector('#' + key + ' button');\n",
              "      quickchartButtonEl.disabled = true;  // To prevent multiple clicks.\n",
              "      quickchartButtonEl.classList.add('colab-df-spinner');\n",
              "      try {\n",
              "        const charts = await google.colab.kernel.invokeFunction(\n",
              "            'suggestCharts', [key], {});\n",
              "      } catch (error) {\n",
              "        console.error('Error during call to suggestCharts:', error);\n",
              "      }\n",
              "      quickchartButtonEl.classList.remove('colab-df-spinner');\n",
              "      quickchartButtonEl.classList.add('colab-df-quickchart-complete');\n",
              "    }\n",
              "    (() => {\n",
              "      let quickchartButtonEl =\n",
              "        document.querySelector('#df-e11a43d2-862b-4e19-a86b-30e9e1cfc8f7 button');\n",
              "      quickchartButtonEl.style.display =\n",
              "        google.colab.kernel.accessAllowed ? 'block' : 'none';\n",
              "    })();\n",
              "  </script>\n",
              "</div>\n",
              "    </div>\n",
              "  </div>\n"
            ],
            "application/vnd.google.colaboratory.intrinsic+json": {
              "type": "dataframe",
              "repr_error": "0"
            }
          },
          "metadata": {},
          "execution_count": 359
        }
      ]
    },
    {
      "cell_type": "markdown",
      "source": [
        "We can fill the missing values in categorical columns and columns having object type of data with a new category 'Unknown'"
      ],
      "metadata": {
        "id": "FUjreZvdNnPX"
      }
    },
    {
      "cell_type": "code",
      "source": [
        "# List of columns to fill\n",
        "columns_to_fill = ['Type', 'Producers', 'Studios', 'Source', 'Genres', 'Demographic', 'Rating', 'staff']  # replace with your column names\n",
        "\n",
        "# Fill NaN values in the specified columns with 'Unknown'\n",
        "for column in columns_to_fill:\n",
        "    df[column] = df[column].fillna('Unknown')"
      ],
      "metadata": {
        "id": "A4mM7TKZNm5D"
      },
      "execution_count": 36,
      "outputs": []
    },
    {
      "cell_type": "code",
      "source": [
        "df['Start_Aired'] = df['Start_Aired'].fillna('Unknown')\n",
        "df['End_Aired'] = df['End_Aired'].fillna('Unknown')\n",
        "df['Aired_Day_of_Week'] = df['Aired_Day_of_Week'].fillna('Unknown')\n",
        "df['Aired_Month'] = df['Aired_Month'].fillna('Unknown')\n",
        "df['Aired_Season'] = df['Aired_Season'].fillna('Unknown')"
      ],
      "metadata": {
        "id": "6aW9aiYnMrNo"
      },
      "execution_count": 37,
      "outputs": []
    },
    {
      "cell_type": "code",
      "source": [
        "df.isna().sum()"
      ],
      "metadata": {
        "colab": {
          "base_uri": "https://localhost:8080/"
        },
        "id": "dqx2UwvooTNE",
        "outputId": "e7a0ba9b-30c4-4037-d839-5df65e868ed3"
      },
      "execution_count": null,
      "outputs": [
        {
          "output_type": "execute_result",
          "data": {
            "text/plain": [
              "Type                    0\n",
              "Episodes                0\n",
              "Producers               0\n",
              "Studios                 0\n",
              "Source                  0\n",
              "Genres                  0\n",
              "Demographic             0\n",
              "Rating                  0\n",
              "Score                   0\n",
              "Ranked               3760\n",
              "Popularity              0\n",
              "Members                 0\n",
              "staff                   0\n",
              "Duration_minutes        0\n",
              "Episodic                0\n",
              "Start_Aired             0\n",
              "End_Aired               0\n",
              "Aired_Season            0\n",
              "Aired_Day_of_Week       0\n",
              "Aired_Month             0\n",
              "Aired_Year           1939\n",
              "dtype: int64"
            ]
          },
          "metadata": {},
          "execution_count": 141
        }
      ]
    },
    {
      "cell_type": "code",
      "source": [
        "# Categorize Popularity\n",
        "df['Popularity_Category'] = pd.qcut(df['Popularity'], q=10, precision=1)\n",
        "\n",
        "# Categorize Members\n",
        "df['Members_Category'] = pd.qcut(df['Members'], q=10, precision=1)\n",
        "\n",
        "# Categorize Duration_Minutes\n",
        "df['Duration_Minutes_Category'] = pd.qcut(df['Duration_minutes'], q=7, precision=1)\n",
        "\n"
      ],
      "metadata": {
        "id": "mqFZj9ZgRdlN"
      },
      "execution_count": 38,
      "outputs": []
    },
    {
      "cell_type": "code",
      "source": [
        "import pandas as pd\n",
        "\n",
        "# Load the CSV file into a DataFrame\n",
        "\n",
        "# Function to convert string representation of lists to actual lists\n",
        "def convert_to_list(genre_str):\n",
        "    try:\n",
        "        return genre_str.split(', ')\n",
        "    except AttributeError:\n",
        "        # Handle cases where genre_str is not a string\n",
        "        return []\n",
        "\n",
        "# Apply the function to the 'Genres' column\n",
        "df['Genres'] = df['Genres'].apply(convert_to_list)\n",
        "\n",
        "# Create a binary matrix for the genres\n",
        "genres_dummies = df['Genres'].explode().str.get_dummies().groupby(level=0).sum()\n",
        "\n",
        "# Concatenate the binary matrix back to the original DataFrame\n",
        "df = pd.concat([df, genres_dummies], axis=1)\n",
        "\n",
        "# Drop the original 'Genres' column\n",
        "df = df.drop(columns=['Genres'])"
      ],
      "metadata": {
        "id": "KS1UcsY-R2XY"
      },
      "execution_count": 39,
      "outputs": []
    },
    {
      "cell_type": "code",
      "source": [
        "df = df.drop(columns=['Unknown'])"
      ],
      "metadata": {
        "id": "6isVJ1tWSBQ6"
      },
      "execution_count": 40,
      "outputs": []
    },
    {
      "cell_type": "code",
      "source": [
        "df['Producers'] = df['Producers'].replace('Unknown', 'p_Unknown')"
      ],
      "metadata": {
        "id": "9syrS5aqSYwi"
      },
      "execution_count": 41,
      "outputs": []
    },
    {
      "cell_type": "code",
      "source": [
        "df['staff'] = df['staff'].replace('Unknown', 's_Unknown')"
      ],
      "metadata": {
        "id": "Rg520X0FTbNP"
      },
      "execution_count": 42,
      "outputs": []
    },
    {
      "cell_type": "code",
      "source": [
        "df['Demographic'] = df['Demographic'].replace('Unknown', 'demo_Unknown')"
      ],
      "metadata": {
        "id": "xH49_UQOWO8D"
      },
      "execution_count": 43,
      "outputs": []
    },
    {
      "cell_type": "code",
      "source": [
        "# Step 1: Convert 'Producers' and 'Staff' columns from string representation to lists\n",
        "df['Producers'] = df['Producers'].apply(lambda x: x.split(', ') if isinstance(x, str) else [])\n",
        "df['staff'] = df['staff'].apply(lambda x: x.split(', ') if isinstance(x, str) else [])\n",
        "\n",
        "# Step 2: Explode the 'Producers' and 'Staff' columns\n",
        "producers_exploded = df['Producers'].explode()\n",
        "staff_exploded = df['staff'].explode()\n",
        "\n",
        "# Step 3: Count occurrences of each producer and staff member\n",
        "top_producers = producers_exploded.value_counts().head(10)\n",
        "top_staff = staff_exploded.value_counts().head(10)\n",
        "\n",
        "# Step 4: Create binary columns for the top 10 producers\n",
        "for producer in top_producers.index:\n",
        "    df[producer] = df['Producers'].apply(lambda x: 1 if producer in x else 0)\n",
        "\n",
        "# Step 5: Create binary columns for the top 10 staff members\n",
        "for staff in top_staff.index:\n",
        "    df[staff] = df['staff'].apply(lambda x: 1 if staff in x else 0)\n",
        "\n",
        "# Step 6: Create 'Other' columns\n",
        "df['Other_Producers'] = df['Producers'].apply(lambda x: 1 if any(producer not in top_producers.index for producer in x) else 0)\n",
        "df['Other_Staff'] = df['staff'].apply(lambda x: 1 if any(staff_member not in top_staff.index for staff_member in x) else 0)\n",
        "\n",
        "# Step 7: Drop the original 'Producers' and 'Staff' columns if no longer needed\n",
        "df = df.drop(columns=['Producers', 'staff'])\n"
      ],
      "metadata": {
        "id": "45lVlr6BTnSr"
      },
      "execution_count": 44,
      "outputs": []
    },
    {
      "cell_type": "code",
      "source": [
        "df.to_csv(\"test.csv\")"
      ],
      "metadata": {
        "id": "6mP_XWZgT0Fh"
      },
      "execution_count": 77,
      "outputs": []
    },
    {
      "cell_type": "code",
      "source": [],
      "metadata": {
        "id": "GJlCT2tEUxMw",
        "colab": {
          "base_uri": "https://localhost:8080/",
          "height": 287
        },
        "outputId": "548da6bf-8650-4074-89ce-046aa6d03c96"
      },
      "execution_count": 45,
      "outputs": [
        {
          "output_type": "error",
          "ename": "KeyError",
          "evalue": "\"['Episodic_Category'] not found in axis\"",
          "traceback": [
            "\u001b[0;31m---------------------------------------------------------------------------\u001b[0m",
            "\u001b[0;31mKeyError\u001b[0m                                  Traceback (most recent call last)",
            "\u001b[0;32m<ipython-input-45-ea9bcd3b8252>\u001b[0m in \u001b[0;36m<cell line: 1>\u001b[0;34m()\u001b[0m\n\u001b[0;32m----> 1\u001b[0;31m \u001b[0mdf\u001b[0m \u001b[0;34m=\u001b[0m \u001b[0mdf\u001b[0m\u001b[0;34m.\u001b[0m\u001b[0mdrop\u001b[0m\u001b[0;34m(\u001b[0m\u001b[0mcolumns\u001b[0m\u001b[0;34m=\u001b[0m\u001b[0;34m[\u001b[0m\u001b[0;34m'Episodic_Category'\u001b[0m\u001b[0;34m]\u001b[0m\u001b[0;34m)\u001b[0m\u001b[0;34m\u001b[0m\u001b[0;34m\u001b[0m\u001b[0m\n\u001b[0m",
            "\u001b[0;32m/usr/local/lib/python3.10/dist-packages/pandas/core/frame.py\u001b[0m in \u001b[0;36mdrop\u001b[0;34m(self, labels, axis, index, columns, level, inplace, errors)\u001b[0m\n\u001b[1;32m   5256\u001b[0m                 \u001b[0mweight\u001b[0m  \u001b[0;36m1.0\u001b[0m     \u001b[0;36m0.8\u001b[0m\u001b[0;34m\u001b[0m\u001b[0;34m\u001b[0m\u001b[0m\n\u001b[1;32m   5257\u001b[0m         \"\"\"\n\u001b[0;32m-> 5258\u001b[0;31m         return super().drop(\n\u001b[0m\u001b[1;32m   5259\u001b[0m             \u001b[0mlabels\u001b[0m\u001b[0;34m=\u001b[0m\u001b[0mlabels\u001b[0m\u001b[0;34m,\u001b[0m\u001b[0;34m\u001b[0m\u001b[0;34m\u001b[0m\u001b[0m\n\u001b[1;32m   5260\u001b[0m             \u001b[0maxis\u001b[0m\u001b[0;34m=\u001b[0m\u001b[0maxis\u001b[0m\u001b[0;34m,\u001b[0m\u001b[0;34m\u001b[0m\u001b[0;34m\u001b[0m\u001b[0m\n",
            "\u001b[0;32m/usr/local/lib/python3.10/dist-packages/pandas/core/generic.py\u001b[0m in \u001b[0;36mdrop\u001b[0;34m(self, labels, axis, index, columns, level, inplace, errors)\u001b[0m\n\u001b[1;32m   4547\u001b[0m         \u001b[0;32mfor\u001b[0m \u001b[0maxis\u001b[0m\u001b[0;34m,\u001b[0m \u001b[0mlabels\u001b[0m \u001b[0;32min\u001b[0m \u001b[0maxes\u001b[0m\u001b[0;34m.\u001b[0m\u001b[0mitems\u001b[0m\u001b[0;34m(\u001b[0m\u001b[0;34m)\u001b[0m\u001b[0;34m:\u001b[0m\u001b[0;34m\u001b[0m\u001b[0;34m\u001b[0m\u001b[0m\n\u001b[1;32m   4548\u001b[0m             \u001b[0;32mif\u001b[0m \u001b[0mlabels\u001b[0m \u001b[0;32mis\u001b[0m \u001b[0;32mnot\u001b[0m \u001b[0;32mNone\u001b[0m\u001b[0;34m:\u001b[0m\u001b[0;34m\u001b[0m\u001b[0;34m\u001b[0m\u001b[0m\n\u001b[0;32m-> 4549\u001b[0;31m                 \u001b[0mobj\u001b[0m \u001b[0;34m=\u001b[0m \u001b[0mobj\u001b[0m\u001b[0;34m.\u001b[0m\u001b[0m_drop_axis\u001b[0m\u001b[0;34m(\u001b[0m\u001b[0mlabels\u001b[0m\u001b[0;34m,\u001b[0m \u001b[0maxis\u001b[0m\u001b[0;34m,\u001b[0m \u001b[0mlevel\u001b[0m\u001b[0;34m=\u001b[0m\u001b[0mlevel\u001b[0m\u001b[0;34m,\u001b[0m \u001b[0merrors\u001b[0m\u001b[0;34m=\u001b[0m\u001b[0merrors\u001b[0m\u001b[0;34m)\u001b[0m\u001b[0;34m\u001b[0m\u001b[0;34m\u001b[0m\u001b[0m\n\u001b[0m\u001b[1;32m   4550\u001b[0m \u001b[0;34m\u001b[0m\u001b[0m\n\u001b[1;32m   4551\u001b[0m         \u001b[0;32mif\u001b[0m \u001b[0minplace\u001b[0m\u001b[0;34m:\u001b[0m\u001b[0;34m\u001b[0m\u001b[0;34m\u001b[0m\u001b[0m\n",
            "\u001b[0;32m/usr/local/lib/python3.10/dist-packages/pandas/core/generic.py\u001b[0m in \u001b[0;36m_drop_axis\u001b[0;34m(self, labels, axis, level, errors, only_slice)\u001b[0m\n\u001b[1;32m   4589\u001b[0m                 \u001b[0mnew_axis\u001b[0m \u001b[0;34m=\u001b[0m \u001b[0maxis\u001b[0m\u001b[0;34m.\u001b[0m\u001b[0mdrop\u001b[0m\u001b[0;34m(\u001b[0m\u001b[0mlabels\u001b[0m\u001b[0;34m,\u001b[0m \u001b[0mlevel\u001b[0m\u001b[0;34m=\u001b[0m\u001b[0mlevel\u001b[0m\u001b[0;34m,\u001b[0m \u001b[0merrors\u001b[0m\u001b[0;34m=\u001b[0m\u001b[0merrors\u001b[0m\u001b[0;34m)\u001b[0m\u001b[0;34m\u001b[0m\u001b[0;34m\u001b[0m\u001b[0m\n\u001b[1;32m   4590\u001b[0m             \u001b[0;32melse\u001b[0m\u001b[0;34m:\u001b[0m\u001b[0;34m\u001b[0m\u001b[0;34m\u001b[0m\u001b[0m\n\u001b[0;32m-> 4591\u001b[0;31m                 \u001b[0mnew_axis\u001b[0m \u001b[0;34m=\u001b[0m \u001b[0maxis\u001b[0m\u001b[0;34m.\u001b[0m\u001b[0mdrop\u001b[0m\u001b[0;34m(\u001b[0m\u001b[0mlabels\u001b[0m\u001b[0;34m,\u001b[0m \u001b[0merrors\u001b[0m\u001b[0;34m=\u001b[0m\u001b[0merrors\u001b[0m\u001b[0;34m)\u001b[0m\u001b[0;34m\u001b[0m\u001b[0;34m\u001b[0m\u001b[0m\n\u001b[0m\u001b[1;32m   4592\u001b[0m             \u001b[0mindexer\u001b[0m \u001b[0;34m=\u001b[0m \u001b[0maxis\u001b[0m\u001b[0;34m.\u001b[0m\u001b[0mget_indexer\u001b[0m\u001b[0;34m(\u001b[0m\u001b[0mnew_axis\u001b[0m\u001b[0;34m)\u001b[0m\u001b[0;34m\u001b[0m\u001b[0;34m\u001b[0m\u001b[0m\n\u001b[1;32m   4593\u001b[0m \u001b[0;34m\u001b[0m\u001b[0m\n",
            "\u001b[0;32m/usr/local/lib/python3.10/dist-packages/pandas/core/indexes/base.py\u001b[0m in \u001b[0;36mdrop\u001b[0;34m(self, labels, errors)\u001b[0m\n\u001b[1;32m   6697\u001b[0m         \u001b[0;32mif\u001b[0m \u001b[0mmask\u001b[0m\u001b[0;34m.\u001b[0m\u001b[0many\u001b[0m\u001b[0;34m(\u001b[0m\u001b[0;34m)\u001b[0m\u001b[0;34m:\u001b[0m\u001b[0;34m\u001b[0m\u001b[0;34m\u001b[0m\u001b[0m\n\u001b[1;32m   6698\u001b[0m             \u001b[0;32mif\u001b[0m \u001b[0merrors\u001b[0m \u001b[0;34m!=\u001b[0m \u001b[0;34m\"ignore\"\u001b[0m\u001b[0;34m:\u001b[0m\u001b[0;34m\u001b[0m\u001b[0;34m\u001b[0m\u001b[0m\n\u001b[0;32m-> 6699\u001b[0;31m                 \u001b[0;32mraise\u001b[0m \u001b[0mKeyError\u001b[0m\u001b[0;34m(\u001b[0m\u001b[0;34mf\"{list(labels[mask])} not found in axis\"\u001b[0m\u001b[0;34m)\u001b[0m\u001b[0;34m\u001b[0m\u001b[0;34m\u001b[0m\u001b[0m\n\u001b[0m\u001b[1;32m   6700\u001b[0m             \u001b[0mindexer\u001b[0m \u001b[0;34m=\u001b[0m \u001b[0mindexer\u001b[0m\u001b[0;34m[\u001b[0m\u001b[0;34m~\u001b[0m\u001b[0mmask\u001b[0m\u001b[0;34m]\u001b[0m\u001b[0;34m\u001b[0m\u001b[0;34m\u001b[0m\u001b[0m\n\u001b[1;32m   6701\u001b[0m         \u001b[0;32mreturn\u001b[0m \u001b[0mself\u001b[0m\u001b[0;34m.\u001b[0m\u001b[0mdelete\u001b[0m\u001b[0;34m(\u001b[0m\u001b[0mindexer\u001b[0m\u001b[0;34m)\u001b[0m\u001b[0;34m\u001b[0m\u001b[0;34m\u001b[0m\u001b[0m\n",
            "\u001b[0;31mKeyError\u001b[0m: \"['Episodic_Category'] not found in axis\""
          ]
        }
      ]
    },
    {
      "cell_type": "code",
      "source": [
        "\n",
        "\n",
        "\n",
        "# Create a binary matrix for the genres\n",
        "genres_dummies = df['Demographic'].explode().str.get_dummies().groupby(level=0).sum()\n",
        "\n",
        "# Concatenate the binary matrix back to the original DataFrame\n",
        "df = pd.concat([df, genres_dummies], axis=1)\n",
        "\n",
        "# Drop the original 'Genres' column\n",
        "df = df.drop(columns=['Demographic'])"
      ],
      "metadata": {
        "id": "dXCAJ--BWCf1"
      },
      "execution_count": 46,
      "outputs": []
    },
    {
      "cell_type": "code",
      "source": [
        "df = df.drop(columns=['Start_Aired'])\n",
        "df = df.drop(columns=['End_Aired'])\n",
        "\n"
      ],
      "metadata": {
        "id": "gk5XC6hJWaWK"
      },
      "execution_count": 47,
      "outputs": []
    },
    {
      "cell_type": "code",
      "source": [
        "# Convert 'Producers' and 'Staff' columns from string representation to lists\n",
        "df['Studios'] = df['Studios'].apply(lambda x: x.split(', ') if isinstance(x, str) else [])\n",
        "\n",
        "# Explode the 'Producers' and 'Staff' columns\n",
        "producers_exploded = df['Studios'].explode()\n",
        "\n",
        "\n",
        "# Count occurrences of each producer and staff member\n",
        "top_producers = producers_exploded.value_counts().head(10)\n",
        "\n",
        "\n",
        "# Create binary columns for the top 10 producers\n",
        "for producer in top_producers.index:\n",
        "    df[producer] = df['Studios'].apply(lambda x: 1 if producer in x else 0)\n",
        "\n",
        "df['Other_Studios'] = df['Studios'].apply(lambda x: 1 if any(producer not in top_producers.index for producer in x) else 0)\n",
        "\n",
        "# Drop the original 'Producers' and 'Staff' columns if no longer needed\n",
        "df = df.drop(columns=['Studios'])\n"
      ],
      "metadata": {
        "id": "lPLnHRgWbYfM"
      },
      "execution_count": 48,
      "outputs": []
    },
    {
      "cell_type": "code",
      "source": [
        "import pandas as pd\n",
        "df = pd.read_csv(\"test (4).csv\")"
      ],
      "metadata": {
        "id": "R_BF3P4j1yoL"
      },
      "execution_count": null,
      "outputs": []
    },
    {
      "cell_type": "code",
      "source": [
        "df.info()"
      ],
      "metadata": {
        "id": "r6RHNx2T2H_t",
        "outputId": "369986ae-7c9e-47cd-8b94-81921f9d1ffc",
        "colab": {
          "base_uri": "https://localhost:8080/"
        }
      },
      "execution_count": null,
      "outputs": [
        {
          "output_type": "stream",
          "name": "stdout",
          "text": [
            "<class 'pandas.core.frame.DataFrame'>\n",
            "RangeIndex: 17037 entries, 0 to 17036\n",
            "Data columns (total 75 columns):\n",
            " #   Column                     Non-Null Count  Dtype  \n",
            "---  ------                     --------------  -----  \n",
            " 0   Unnamed: 0                 17037 non-null  int64  \n",
            " 1   Type                       17037 non-null  object \n",
            " 2   Episodes                   17037 non-null  float64\n",
            " 3   Source                     17037 non-null  object \n",
            " 4   Rating                     17037 non-null  object \n",
            " 5   Score                      17037 non-null  float64\n",
            " 6   Ranked                     13277 non-null  float64\n",
            " 7   Popularity                 17037 non-null  float64\n",
            " 8   Members                    17037 non-null  float64\n",
            " 9   Duration_minutes           17037 non-null  float64\n",
            " 10  Episodic                   17037 non-null  int64  \n",
            " 11  Aired_Season               17037 non-null  object \n",
            " 12  Aired_Day_of_Week          17037 non-null  object \n",
            " 13  Aired_Month                17037 non-null  object \n",
            " 14  Aired_Year                 15098 non-null  float64\n",
            " 15  Popularity_Category        17037 non-null  object \n",
            " 16  Members_Category           17037 non-null  object \n",
            " 17  Duration_Minutes_Category  17037 non-null  object \n",
            " 18  Action                     17037 non-null  int64  \n",
            " 19  Adventure                  17037 non-null  int64  \n",
            " 20  Avant Garde                17037 non-null  int64  \n",
            " 21  Award Winning              17037 non-null  int64  \n",
            " 22  Boys Love                  17037 non-null  int64  \n",
            " 23  Comedy                     17037 non-null  int64  \n",
            " 24  Drama                      17037 non-null  int64  \n",
            " 25  Ecchi                      17037 non-null  int64  \n",
            " 26  Erotica                    17037 non-null  int64  \n",
            " 27  Fantasy                    17037 non-null  int64  \n",
            " 28  Girls Love                 17037 non-null  int64  \n",
            " 29  Gourmet                    17037 non-null  int64  \n",
            " 30  Hentai                     17037 non-null  int64  \n",
            " 31  Horror                     17037 non-null  int64  \n",
            " 32  Mystery                    17037 non-null  int64  \n",
            " 33  Romance                    17037 non-null  int64  \n",
            " 34  Sci-Fi                     17037 non-null  int64  \n",
            " 35  Slice of Life              17037 non-null  int64  \n",
            " 36  Sports                     17037 non-null  int64  \n",
            " 37  Supernatural               17037 non-null  int64  \n",
            " 38  Suspense                   17037 non-null  int64  \n",
            " 39  p_Unknown                  17037 non-null  int64  \n",
            " 40  Aniplex                    17037 non-null  int64  \n",
            " 41  TV Tokyo                   17037 non-null  int64  \n",
            " 42  Lantis                     17037 non-null  int64  \n",
            " 43  Movic                      17037 non-null  int64  \n",
            " 44  AT-X                       17037 non-null  int64  \n",
            " 45  NHK                        17037 non-null  int64  \n",
            " 46  Bandai Visual              17037 non-null  int64  \n",
            " 47  Pony Canyon                17037 non-null  int64  \n",
            " 48  Kadokawa                   17037 non-null  int64  \n",
            " 49  s_Unknown                  17037 non-null  int64  \n",
            " 50  Cook                       17037 non-null  int64  \n",
            " 51  Justin                     17037 non-null  int64  \n",
            " 52  Hiroshi                    17037 non-null  int64  \n",
            " 53  Hiroyuki                   17037 non-null  int64  \n",
            " 54  Takashi                    17037 non-null  int64  \n",
            " 55  Watanabe                   17037 non-null  int64  \n",
            " 56  Tanaka                     17037 non-null  int64  \n",
            " 57  Takahashi                  17037 non-null  int64  \n",
            " 58  Satou                      17037 non-null  int64  \n",
            " 59  Josei                      17037 non-null  int64  \n",
            " 60  Kids                       17037 non-null  int64  \n",
            " 61  Seinen                     17037 non-null  int64  \n",
            " 62  Shoujo                     17037 non-null  int64  \n",
            " 63  Shounen                    17037 non-null  int64  \n",
            " 64  demo_Unknown               17037 non-null  int64  \n",
            " 65  Unknown                    17037 non-null  int64  \n",
            " 66  Toei Animation             17037 non-null  int64  \n",
            " 67  Sunrise                    17037 non-null  int64  \n",
            " 68  J.C.Staff                  17037 non-null  int64  \n",
            " 69  Madhouse                   17037 non-null  int64  \n",
            " 70  Production I.G             17037 non-null  int64  \n",
            " 71  TMS Entertainment          17037 non-null  int64  \n",
            " 72  Studio Deen                17037 non-null  int64  \n",
            " 73  Pierrot                    17037 non-null  int64  \n",
            " 74  OLM                        17037 non-null  int64  \n",
            "dtypes: float64(7), int64(59), object(9)\n",
            "memory usage: 9.7+ MB\n"
          ]
        }
      ]
    },
    {
      "cell_type": "code",
      "source": [
        "import matplotlib.pyplot as plt"
      ],
      "metadata": {
        "id": "34nEZXDk201x"
      },
      "execution_count": null,
      "outputs": []
    },
    {
      "cell_type": "code",
      "source": [
        "df['Aired_Year'].plot(kind='hist', bins=10, edgecolor='black', alpha=0.7)\n",
        "plt.title('Histogram of Aired_Year')\n",
        "plt.xlabel('Values')\n",
        "plt.ylabel('Frequency')\n",
        "plt.grid(True)\n",
        "plt.show()"
      ],
      "metadata": {
        "id": "05bwOpLs22YS",
        "outputId": "d00e8ba8-f8f7-47f4-c07f-037cc3cbecf7",
        "colab": {
          "base_uri": "https://localhost:8080/",
          "height": 472
        }
      },
      "execution_count": null,
      "outputs": [
        {
          "output_type": "display_data",
          "data": {
            "text/plain": [
              "<Figure size 640x480 with 1 Axes>"
            ],
            "image/png": "[encoded data removed]"
          },
          "metadata": {}
        }
      ]
    },
    {
      "cell_type": "code",
      "source": [
        "# Calculate the median of the column\n",
        "median_value = df['Aired_Year'].median()\n",
        "\n",
        "# Fill the null values with the median\n",
        "df['Aired_Year'].fillna(median_value, inplace=True)\n"
      ],
      "metadata": {
        "id": "T4sh5hMz3RO6"
      },
      "execution_count": 49,
      "outputs": []
    },
    {
      "cell_type": "code",
      "source": [
        "unknown_counts = df.apply(lambda col: (col == 'Unknown').sum())\n",
        "\n"
      ],
      "metadata": {
        "id": "_echz0NY3V-N"
      },
      "execution_count": 52,
      "outputs": []
    },
    {
      "cell_type": "code",
      "source": [
        "unknown_counts"
      ],
      "metadata": {
        "id": "ytO_yFptbr0b",
        "outputId": "5032a158-391c-4126-98cd-bc1e282e5ec6",
        "colab": {
          "base_uri": "https://localhost:8080/"
        }
      },
      "execution_count": 53,
      "outputs": [
        {
          "output_type": "execute_result",
          "data": {
            "text/plain": [
              "Type                 2343\n",
              "Episodes                0\n",
              "Source               2538\n",
              "Rating                 87\n",
              "Score                   0\n",
              "                     ... \n",
              "TMS Entertainment       0\n",
              "Studio Deen             0\n",
              "Pierrot                 0\n",
              "OLM                     0\n",
              "Other_Studios           0\n",
              "Length: 77, dtype: int64"
            ]
          },
          "metadata": {},
          "execution_count": 53
        }
      ]
    },
    {
      "cell_type": "code",
      "source": [
        "# Define the 'Unknown' string\n",
        "custom_unknown_value = 'Unknown'\n",
        "\n",
        "# Count the number of 'Unknown' values, NaN, and empty strings in each column\n",
        "unknown_counts = df.apply(lambda col: col.isna().sum() + (col == '').sum() + (col == custom_unknown_value).sum())\n",
        "\n",
        "print(\"Counts of 'Unknown' values, NaN, and empty strings in each column:\")\n",
        "print(unknown_counts)\n",
        "\n",
        "# Identify columns with any 'Unknown', NaN, or empty strings\n",
        "columns_with_unknowns = unknown_counts[unknown_counts > 0].index.tolist()\n",
        "\n",
        "print(\"\\nColumns with any 'Unknown' values, NaN, or empty strings:\")\n",
        "print(columns_with_unknowns)"
      ],
      "metadata": {
        "id": "ph1XGMlwcJ8A",
        "outputId": "8679137a-6118-4338-fb6e-ed40aa3a8bf9",
        "colab": {
          "base_uri": "https://localhost:8080/"
        }
      },
      "execution_count": 74,
      "outputs": [
        {
          "output_type": "stream",
          "name": "stdout",
          "text": [
            "Counts of 'Unknown' values, NaN, and empty strings in each column:\n",
            "Unnamed: 0    0\n",
            "Episodes      0\n",
            "Rating        0\n",
            "Score         0\n",
            "Members       0\n",
            "             ..\n",
            "Movie         0\n",
            "ONA           0\n",
            "Special       0\n",
            "TV Special    0\n",
            "Other_Type    0\n",
            "Length: 89, dtype: int64\n",
            "\n",
            "Columns with any 'Unknown' values, NaN, or empty strings:\n",
            "[]\n"
          ]
        }
      ]
    },
    {
      "cell_type": "code",
      "source": [
        "df = pd.read_csv('test.csv')"
      ],
      "metadata": {
        "id": "LlgJVA7ohAF-"
      },
      "execution_count": 65,
      "outputs": []
    },
    {
      "cell_type": "code",
      "source": [
        "df = df.drop(columns=['Popularity', 'Duration_Minutes_Category', 'Ranked', 'Members_Category', 'Popularity_Category'])"
      ],
      "metadata": {
        "id": "_Sn7voC_cviS"
      },
      "execution_count": 66,
      "outputs": []
    },
    {
      "cell_type": "code",
      "source": [
        "unknown_in_rating_count = (df['Aired_Month'] == 'Unknown').sum()\n",
        "\n",
        "print(\"Number of 'Unknown' values in the 'Rating' column:\")\n",
        "print(unknown_in_rating_count)"
      ],
      "metadata": {
        "id": "CNVvM9s5dIP8",
        "outputId": "9c4764b6-d4a8-47cc-9aff-49b1468e0da0",
        "colab": {
          "base_uri": "https://localhost:8080/"
        }
      },
      "execution_count": 67,
      "outputs": [
        {
          "output_type": "stream",
          "name": "stdout",
          "text": [
            "Number of 'Unknown' values in the 'Rating' column:\n",
            "1058\n"
          ]
        }
      ]
    },
    {
      "cell_type": "code",
      "source": [
        "def filling_with_mode(df, column):\n",
        "  mode = df[column].mode()[0]  # Get the mode (most frequent value)\n",
        "  df[column] = df[column].replace('Unknown', mode)\n",
        "  return df\n",
        "\n",
        "df = filling_with_mode(df, 'Type')\n",
        "df = filling_with_mode(df, 'Source')\n",
        "df = filling_with_mode(df, 'Rating')\n",
        "df = filling_with_mode(df, 'Aired_Season')\n",
        "df = filling_with_mode(df, 'Aired_Day_of_Week')\n",
        "df = filling_with_mode(df, 'Aired_Month')\n"
      ],
      "metadata": {
        "id": "55hImfjxeDyN"
      },
      "execution_count": 68,
      "outputs": []
    },
    {
      "cell_type": "code",
      "source": [
        "df['Source'] = df['Source'].apply(lambda x: x.split(', ') if isinstance(x, str) else [])\n",
        "\n",
        "\n",
        "# Step 2: Explode the 'Producers' and 'Staff' columns\n",
        "producers_exploded = df['Source'].explode()\n",
        "\n",
        "\n",
        "# Step 3: Count occurrences of each producer and staff member\n",
        "top_producers = producers_exploded.value_counts().head(10)\n",
        "\n",
        "# Step 4: Create binary columns for the top 10 producers\n",
        "for producer in top_producers.index:\n",
        "    df[producer] = df['Source'].apply(lambda x: 1 if producer in x else 0)\n",
        "\n",
        "\n",
        "\n",
        "# Step 6: Create 'Other' columns\n",
        "df['Other_Source'] = df['Source'].apply(lambda x: 1 if any(producer not in top_producers.index for producer in x) else 0)\n",
        "\n",
        "\n"
      ],
      "metadata": {
        "id": "oRvmOO0IfElo"
      },
      "execution_count": 69,
      "outputs": []
    },
    {
      "cell_type": "code",
      "source": [
        "df = df.drop(columns=['Source'])"
      ],
      "metadata": {
        "id": "Et1rxFMmh178"
      },
      "execution_count": 72,
      "outputs": []
    },
    {
      "cell_type": "code",
      "source": [
        "from sklearn.preprocessing import LabelEncoder\n",
        "# Initialize LabelEncoder\n",
        "label_encoder = LabelEncoder()\n",
        "\n",
        "# Apply LabelEncoder to each categorical column\n",
        "df['Aired_Season'] = label_encoder.fit_transform(df['Aired_Season'])\n",
        "df['Aired_Day_of_Week'] = label_encoder.fit_transform(df['Aired_Day_of_Week'])\n",
        "df['Aired_Month'] = label_encoder.fit_transform(df['Aired_Month'])\n",
        "df['Rating'] = label_encoder.fit_transform(df['Rating'])"
      ],
      "metadata": {
        "id": "nlpE5iaWhNul"
      },
      "execution_count": 70,
      "outputs": []
    },
    {
      "cell_type": "code",
      "source": [
        "df['Type'] = df['Type'].apply(lambda x: x.split(', ') if isinstance(x, str) else [])\n",
        "\n",
        "\n",
        "# Step 2: Explode the 'Producers' and 'Staff' columns\n",
        "producers_exploded = df['Type'].explode()\n",
        "\n",
        "\n",
        "# Step 3: Count occurrences of each producer and staff member\n",
        "top_producers = producers_exploded.value_counts().head(10)\n",
        "\n",
        "# Step 4: Create binary columns for the top 10 producers\n",
        "for producer in top_producers.index:\n",
        "    df[producer] = df['Type'].apply(lambda x: 1 if producer in x else 0)\n",
        "\n",
        "\n",
        "\n",
        "# Step 6: Create 'Other' columns\n",
        "df['Other_Type'] = df['Type'].apply(lambda x: 1 if any(producer not in top_producers.index for producer in x) else 0)\n",
        "\n",
        "df = df.drop(columns=['Type'])\n"
      ],
      "metadata": {
        "id": "BeKb-ayAgyrw"
      },
      "execution_count": 73,
      "outputs": []
    },
    {
      "cell_type": "code",
      "source": [
        "df = df.drop(columns=['Unnamed: 0'])\n"
      ],
      "metadata": {
        "id": "RE9g15MRie-_"
      },
      "execution_count": 76,
      "outputs": []
    },
    {
      "cell_type": "markdown",
      "source": [],
      "metadata": {
        "id": "wYXee2fmeOZI"
      }
    },
    {
      "cell_type": "markdown",
      "source": [
        "## EDA"
      ],
      "metadata": {
        "id": "belrV8RXtJrS"
      }
    },
    {
      "cell_type": "code",
      "source": [
        "# Apply the function to split the staff names and replace the original 'staff' column\n",
        "df['staff'] = df['staff'].str.split(',')\n",
        "df['Genres'] = df['Genres'].str.split(',')\n",
        "df['Producers'] = df['Producers'].str.split(',')\n",
        "df['Studios'] = df['Studios'].str.split(',')"
      ],
      "metadata": {
        "id": "mIjgMz3N0_WX"
      },
      "execution_count": null,
      "outputs": []
    },
    {
      "cell_type": "code",
      "source": [
        "import pandas as pd\n",
        "\n",
        "def print_top_items_by_mean_score(df, columns, score_col='Score', top_n=10):\n",
        "    \"\"\"\n",
        "    Function to print the top `top_n` items by mean score for each specified column.\n",
        "\n",
        "    Parameters:\n",
        "    df (pd.DataFrame): The input DataFrame.\n",
        "    columns (list): The list of columns to process (e.g., ['staff', 'Genres', 'Producers', 'Studios']).\n",
        "    score_col (str): The column with scores (default is 'Score').\n",
        "    top_n (int): The number of top items to consider (default is 10).\n",
        "    \"\"\"\n",
        "    df_copy = df.copy()  # Make a copy of the original DataFrame\n",
        "\n",
        "    for column in columns:\n",
        "        # Split the specified column into lists\n",
        "        #df_copy[column] = df_copy[column].str.split(',')\n",
        "\n",
        "        # Sort the dataframe based on the score column\n",
        "        df_sorted = df_copy.sort_values(score_col)\n",
        "\n",
        "        # Flatten the list of items and reset the index\n",
        "        items = df_sorted[column].explode().reset_index()\n",
        "\n",
        "        # Group by item and calculate the mean score\n",
        "        mean_scores = df_sorted.reset_index().groupby(items[column])[score_col].mean()\n",
        "\n",
        "        # Get the top_n items with the highest mean score\n",
        "        top_items = mean_scores.nlargest(top_n)\n",
        "\n",
        "        # Print the top items and their mean scores\n",
        "        print(f\"Top {top_n} items for column '{column}':\")\n",
        "        print(top_items)\n",
        "        print()\n",
        "\n",
        "\n",
        "# Columns to process\n",
        "columns_to_process = ['staff', 'Genres', 'Producers', 'Studios']\n",
        "\n",
        "# Apply the function\n",
        "print_top_items_by_mean_score(df, columns_to_process)\n"
      ],
      "metadata": {
        "colab": {
          "base_uri": "https://localhost:8080/"
        },
        "id": "iy9IjjKpsDZk",
        "outputId": "6bf0bc3c-d4fe-442c-caaf-b6b2a385736c"
      },
      "execution_count": null,
      "outputs": [
        {
          "output_type": "stream",
          "name": "stdout",
          "text": [
            "Top 10 items for column 'staff':\n",
            "staff\n",
            " Papaya     9.06\n",
            "Miki        9.02\n",
            "Ogura       8.93\n",
            " Touma      8.92\n",
            " Koumura    8.90\n",
            "Sanpei      8.88\n",
            " Kato       8.81\n",
            " Myoukan    8.79\n",
            "Harao       8.79\n",
            " Matsumi    8.75\n",
            "Name: Score, dtype: float64\n",
            "\n",
            "Top 10 items for column 'Genres':\n",
            "Genres\n",
            " Romance        6.773112\n",
            " Adventure      6.742228\n",
            " Drama          6.722412\n",
            "Mystery         6.713514\n",
            "Adventure       6.679357\n",
            " Fantasy        6.672272\n",
            " Boys Love      6.633333\n",
            " Mystery        6.630784\n",
            "Supernatural    6.623636\n",
            "Action          6.605254\n",
            "Name: Score, dtype: float64\n",
            "\n",
            "Top 10 items for column 'Producers':\n",
            "Producers\n",
            "Universal Radio Studio    8.98\n",
            "M.S.C                     8.81\n",
            "Marine Entertainment      8.76\n",
            "Overlap                   8.70\n",
            " DMM.com Labo             8.68\n",
            " TIS                      8.68\n",
            " Delightworks             8.62\n",
            " 3xCube                   8.56\n",
            " Kino Production          8.55\n",
            "Antechinus                8.52\n",
            "Name: Score, dtype: float64\n",
            "\n",
            "Top 10 items for column 'Studios':\n",
            "Studios\n",
            "E&H Production              8.530000\n",
            "Studio Kafka                8.445000\n",
            " Code                       8.390000\n",
            "Frontier One                8.320000\n",
            " LIDENFILMS Kyoto Studio    8.300000\n",
            " HMCH                       8.250000\n",
            " P.A. Works                 8.210000\n",
            " Animation Do               8.187778\n",
            " Imagineer                  8.185000\n",
            " J.C.Staff                  8.120000\n",
            "Name: Score, dtype: float64\n",
            "\n"
          ]
        }
      ]
    },
    {
      "cell_type": "code",
      "source": [],
      "metadata": {
        "id": "NTJlG3ZqTy_e"
      },
      "execution_count": null,
      "outputs": []
    },
    {
      "cell_type": "code",
      "source": [
        "import pandas as pd\n",
        "\n",
        "def get_top_items_binary_df(df, column, score_col='Score', top_n=10):\n",
        "    \"\"\"\n",
        "    Function to get a new DataFrame with binary columns for the top `top_n` items by mean score.\n",
        "\n",
        "    Parameters:\n",
        "    df (pd.DataFrame): The input DataFrame.\n",
        "    column (str): The column to process (e.g., 'Genres', 'Producers', 'Studios').\n",
        "    score_col (str): The column with scores (default is 'Score').\n",
        "    top_n (int): The number of top items to consider (default is 10).\n",
        "\n",
        "    Returns:\n",
        "    pd.DataFrame: A DataFrame with binary columns for the top `top_n` items.\n",
        "    \"\"\"\n",
        "\n",
        "    # Sort the dataframe based on the score column\n",
        "    df_sorted = df.sort_values(score_col)\n",
        "\n",
        "    # Flatten the list of items and reset the index\n",
        "    items = df_sorted[column].explode().reset_index()\n",
        "\n",
        "    # Group by item and calculate the mean score\n",
        "    mean_scores = df_sorted.reset_index().groupby(items[column])[score_col].mean()\n",
        "\n",
        "    # Get the top_n items with the highest mean score\n",
        "    top_items = mean_scores.nlargest(top_n).index\n",
        "\n",
        "    # Create a new DataFrame with binary columns for each of the top items\n",
        "    binary_df = pd.DataFrame(index=df.index)\n",
        "\n",
        "    for item in top_items:\n",
        "        binary_df[item] = df[column].apply(lambda x: 1 if item in x else 0)\n",
        "\n",
        "    return binary_df\n",
        "\n",
        "\n",
        "# Apply the function to 'staff'\n",
        "staff_binary_df = get_top_items_binary_df(df, 'staff')\n",
        "print(\"Top staff Binary DataFrame:\\n\", staff_binary_df)\n",
        "\n",
        "# Apply the function to 'Genres'\n",
        "genres_binary_df = get_top_items_binary_df(df, 'Genres')\n",
        "print(\"Top Genres Binary DataFrame:\\n\", genres_binary_df)\n",
        "\n",
        "# Apply the function to 'Producers'\n",
        "producers_binary_df = get_top_items_binary_df(df, 'Producers')\n",
        "print(\"Top Producers Binary DataFrame:\\n\", producers_binary_df)\n",
        "\n",
        "# Apply the function to 'Studios'\n",
        "studios_binary_df = get_top_items_binary_df(df, 'Studios')\n",
        "print(\"Top Studios Binary DataFrame:\\n\", studios_binary_df)\n"
      ],
      "metadata": {
        "colab": {
          "base_uri": "https://localhost:8080/"
        },
        "outputId": "cfdac9ef-af8c-46ae-8c8a-896449f4b102",
        "id": "8GO5EmdTsCX_"
      },
      "execution_count": null,
      "outputs": [
        {
          "output_type": "stream",
          "name": "stdout",
          "text": [
            "Top staff Binary DataFrame:\n",
            "         Papaya  Miki  Ogura   Touma   Koumura  Sanpei   Kato   Myoukan  Harao  \\\n",
            "0            0     0      0       0         0       0      0         0      0   \n",
            "1            0     0      0       0         0       0      0         0      0   \n",
            "2            0     0      0       0         0       0      0         0      0   \n",
            "3            0     0      0       0         0       0      0         0      0   \n",
            "4            0     0      0       0         0       0      0         0      0   \n",
            "...        ...   ...    ...     ...       ...     ...    ...       ...    ...   \n",
            "17155        0     0      0       0         0       0      0         0      0   \n",
            "17156        0     0      0       0         0       0      0         0      0   \n",
            "17157        0     0      0       0         0       0      0         0      0   \n",
            "17158        0     0      0       0         0       0      0         0      0   \n",
            "17159        0     0      0       0         0       0      0         0      0   \n",
            "\n",
            "        Matsumi  \n",
            "0             0  \n",
            "1             0  \n",
            "2             0  \n",
            "3             0  \n",
            "4             0  \n",
            "...         ...  \n",
            "17155         0  \n",
            "17156         0  \n",
            "17157         0  \n",
            "17158         0  \n",
            "17159         0  \n",
            "\n",
            "[17160 rows x 10 columns]\n",
            "Top Genres Binary DataFrame:\n",
            "         Romance   Adventure   Drama  Mystery  Adventure   Fantasy   Boys Love  \\\n",
            "0             0           0       1        0          1         1           0   \n",
            "1             0           1       1        0          0         1           0   \n",
            "2             0           0       0        0          0         0           0   \n",
            "3             0           0       0        0          0         0           0   \n",
            "4             0           0       1        0          0         0           0   \n",
            "...         ...         ...     ...      ...        ...       ...         ...   \n",
            "17155         0           0       0        0          0         0           0   \n",
            "17156         0           0       0        0          0         0           0   \n",
            "17157         0           0       0        0          0         0           0   \n",
            "17158         0           0       0        0          0         0           0   \n",
            "17159         0           0       0        0          0         0           0   \n",
            "\n",
            "        Mystery  Supernatural  Action  \n",
            "0             0             0       0  \n",
            "1             0             0       1  \n",
            "2             0             0       0  \n",
            "3             0             0       1  \n",
            "4             0             0       1  \n",
            "...         ...           ...     ...  \n",
            "17155         0             0       0  \n",
            "17156         0             0       0  \n",
            "17157         0             0       0  \n",
            "17158         0             0       0  \n",
            "17159         0             0       0  \n",
            "\n",
            "[17160 rows x 10 columns]\n",
            "Top Producers Binary DataFrame:\n",
            "        Universal Radio Studio  M.S.C  Marine Entertainment  Overlap  \\\n",
            "0                           0      0                     0        0   \n",
            "1                           0      0                     0        0   \n",
            "2                           0      0                     0        0   \n",
            "3                           0      0                     0        0   \n",
            "4                           0      0                     0        0   \n",
            "...                       ...    ...                   ...      ...   \n",
            "17155                       0      0                     0        0   \n",
            "17156                       0      0                     0        0   \n",
            "17157                       0      0                     0        0   \n",
            "17158                       0      0                     0        0   \n",
            "17159                       0      0                     0        0   \n",
            "\n",
            "        DMM.com Labo   TIS   Delightworks   3xCube   Kino Production  \\\n",
            "0                  0     0              0        0                 0   \n",
            "1                  0     0              0        0                 0   \n",
            "2                  0     0              0        0                 0   \n",
            "3                  0     0              0        0                 0   \n",
            "4                  0     0              0        0                 0   \n",
            "...              ...   ...            ...      ...               ...   \n",
            "17155              0     0              0        0                 0   \n",
            "17156              0     0              0        0                 0   \n",
            "17157              0     0              0        0                 0   \n",
            "17158              0     0              0        0                 0   \n",
            "17159              0     0              0        0                 0   \n",
            "\n",
            "       Antechinus  \n",
            "0               0  \n",
            "1               0  \n",
            "2               0  \n",
            "3               0  \n",
            "4               0  \n",
            "...           ...  \n",
            "17155           0  \n",
            "17156           0  \n",
            "17157           0  \n",
            "17158           0  \n",
            "17159           0  \n",
            "\n",
            "[17160 rows x 10 columns]\n",
            "Top Studios Binary DataFrame:\n",
            "        E&H Production  Studio Kafka   Code  Frontier One  \\\n",
            "0                   0             0      0             0   \n",
            "1                   0             0      0             0   \n",
            "2                   0             0      0             0   \n",
            "3                   0             0      0             0   \n",
            "4                   0             0      0             0   \n",
            "...               ...           ...    ...           ...   \n",
            "17155               0             0      0             0   \n",
            "17156               0             0      0             0   \n",
            "17157               0             0      0             0   \n",
            "17158               0             0      0             0   \n",
            "17159               0             0      0             0   \n",
            "\n",
            "        LIDENFILMS Kyoto Studio   HMCH   P.A. Works   Animation Do  \\\n",
            "0                             0      0            0              0   \n",
            "1                             0      0            0              0   \n",
            "2                             0      0            0              0   \n",
            "3                             0      0            0              0   \n",
            "4                             0      0            0              0   \n",
            "...                         ...    ...          ...            ...   \n",
            "17155                         0      0            0              0   \n",
            "17156                         0      0            0              0   \n",
            "17157                         0      0            0              0   \n",
            "17158                         0      0            0              0   \n",
            "17159                         0      0            0              0   \n",
            "\n",
            "        Imagineer   J.C.Staff  \n",
            "0               0           0  \n",
            "1               0           0  \n",
            "2               0           0  \n",
            "3               0           0  \n",
            "4               0           0  \n",
            "...           ...         ...  \n",
            "17155           0           0  \n",
            "17156           0           0  \n",
            "17157           0           0  \n",
            "17158           0           0  \n",
            "17159           0           0  \n",
            "\n",
            "[17160 rows x 10 columns]\n"
          ]
        }
      ]
    },
    {
      "cell_type": "markdown",
      "source": [],
      "metadata": {
        "id": "csLBaOgg5agl"
      }
    },
    {
      "cell_type": "markdown",
      "source": [
        "###Fill the null values in rank with interpolate function"
      ],
      "metadata": {
        "id": "2yCSuPGJzVFW"
      }
    },
    {
      "cell_type": "code",
      "source": [
        "import matplotlib.pyplot as plt\n",
        "\n",
        "\n",
        "df_copy = df.copy()\n",
        "df_copy['Ranked'] = df_copy['Ranked'].interpolate(method='linear')\n"
      ],
      "metadata": {
        "id": "xnfkva9KCWzY"
      },
      "execution_count": null,
      "outputs": []
    },
    {
      "cell_type": "code",
      "source": [
        "# Using Matplotlib\n",
        "plt.figure(figsize=(10, 6))\n",
        "plt.scatter(df_copy['Ranked'], df_copy['Score'], color='blue', label='Data Points')\n",
        "m, b = np.polyfit(df_copy['Ranked'], df_copy['Score'], 1)\n",
        "plt.plot(df_copy['Ranked'], m * df_copy['Ranked'] + b, color='red', label='Fit Line')\n",
        "plt.xlabel('Ranked')\n",
        "plt.ylabel('Score')\n",
        "plt.title('Linear Relationship between Score and Ranked')\n",
        "plt.legend()\n",
        "plt.show()\n",
        "\n",
        "# Using Seaborn\n",
        "sns.lmplot(x='Ranked', y='Score', data=df_copy, aspect=2, scatter_kws={'s':20})\n",
        "plt.xlabel('Ranked')\n",
        "plt.ylabel('Score')\n",
        "plt.title('Linear Relationship between Score and Ranked')\n",
        "plt.show()"
      ],
      "metadata": {
        "colab": {
          "base_uri": "https://localhost:8080/",
          "height": 972
        },
        "id": "rgvq15UY5Kri",
        "outputId": "04d828e8-5a2a-47b4-8c5b-4338049a7d44"
      },
      "execution_count": null,
      "outputs": [
        {
          "output_type": "display_data",
          "data": {
            "text/plain": [
              "<Figure size 1000x600 with 1 Axes>"
            ],
            "image/png": "[encoded data removed]"
          },
          "metadata": {}
        },
        {
          "output_type": "display_data",
          "data": {
            "text/plain": [
              "<Figure size 1000x500 with 1 Axes>"
            ],
            "image/png": "[encoded data removed]"
          },
          "metadata": {}
        }
      ]
    },
    {
      "cell_type": "markdown",
      "source": [
        "### Fill the null values in rank with median"
      ],
      "metadata": {
        "id": "oWOVG9m5zex1"
      }
    },
    {
      "cell_type": "code",
      "source": [
        "df_copy = df.copy()\n",
        "\n",
        "# Calculate the median of the numeric values in the 'Ranked' column\n",
        "median = df_copy['Ranked'].median()\n",
        "\n",
        "# Fill NaN values in the 'Ranked' column with the median\n",
        "df_copy['Ranked'].fillna(median, inplace=True)\n"
      ],
      "metadata": {
        "id": "HdcIQ89i5kT-"
      },
      "execution_count": null,
      "outputs": []
    },
    {
      "cell_type": "code",
      "source": [
        "# Using Matplotlib\n",
        "plt.figure(figsize=(10, 6))\n",
        "plt.scatter(df_copy['Ranked'], df_copy['Score'], color='blue', label='Data Points')\n",
        "m, b = np.polyfit(df_copy['Ranked'], df_copy['Score'], 1)\n",
        "plt.plot(df_copy['Ranked'], m * df_copy['Ranked'] + b, color='red', label='Fit Line')\n",
        "plt.xlabel('Ranked')\n",
        "plt.ylabel('Score')\n",
        "plt.title('Linear Relationship between Score and Ranked')\n",
        "plt.legend()\n",
        "plt.show()\n",
        "\n",
        "# Using Seaborn\n",
        "sns.lmplot(x='Ranked', y='Score', data=df_copy, aspect=2, scatter_kws={'s':20})\n",
        "plt.xlabel('Ranked')\n",
        "plt.ylabel('Score')\n",
        "plt.title('Linear Relationship between Score and Ranked')\n",
        "plt.show()"
      ],
      "metadata": {
        "colab": {
          "base_uri": "https://localhost:8080/",
          "height": 774
        },
        "id": "62Mm2QAF5xbP",
        "outputId": "2decfec4-ed3b-4121-9111-55474e43c5fb"
      },
      "execution_count": null,
      "outputs": [
        {
          "output_type": "display_data",
          "data": {
            "text/plain": [
              "<Figure size 1000x600 with 1 Axes>"
            ],
            "image/png": "[encoded data removed]"
          },
          "metadata": {}
        },
        {
          "output_type": "display_data",
          "data": {
            "text/plain": [
              "<Figure size 1000x500 with 1 Axes>"
            ],
            "image/png": "[encoded data removed]"
          },
          "metadata": {}
        }
      ]
    },
    {
      "cell_type": "code",
      "source": [
        "#df.to_csv('/content/drive/My Drive/project_DS/final_df.csv', index=False)\n"
      ],
      "metadata": {
        "id": "bpUEC9M3k_vQ"
      },
      "execution_count": null,
      "outputs": []
    }
  ]
}